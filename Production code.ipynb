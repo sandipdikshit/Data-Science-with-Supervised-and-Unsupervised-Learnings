{
 "cells": [
  {
   "cell_type": "code",
   "execution_count": null,
   "id": "c3048a4d",
   "metadata": {},
   "outputs": [],
   "source": [
    "from sklearn.metrics import classification_report\n",
    "import pandas as pd, warnings, seaborn as sns, matplotlib.pyplot as plt, plotly.express as px, numpy as np\n",
    "from sklearn import preprocessing, metrics\n",
    "from pycaret.classification import *\n",
    "from imblearn.combine import SMOTEENN, SMOTETomek\n",
    "from imblearn.over_sampling import (RandomOverSampler, SMOTE, BorderlineSMOTE, SVMSMOTE, ADASYN)\n",
    "from imblearn.under_sampling import(\n",
    "    RandomUnderSampler, NearMiss, ClusterCentroids, TomekLinks, EditedNearestNeighbours,CondensedNearestNeighbour)\n",
    "datasett = pd.read_csv('D:/dataset.csv', index_col = 'patient_id', parse_dates = True)\n",
    "datasett.age = datasett.age.apply(lambda x : x if x > 0 else 0)\n",
    "datasett.patient_created_date=pd.to_datetime(datasett.patient_created_date)\n",
    "target_date = pd.to_datetime('2023-03-01')\n",
    "datasett['account_length_days'] = (target_date - datasett['patient_created_date']).dt.days\n",
    "datasett.drop(columns = ['clinic_id','patient_created_date','plan_policy_type_1','plan_policy_type',\n",
    "                         'gender','total_fee','age','claim_fee'], inplace = True)\n",
    "dataset_1 = datasett[datasett['Attachment']==1]\n",
    "dataset_0 = datasett[datasett['Attachment']==0]\n",
    "dataset_0 = dataset_0.sample(n=159733)\n",
    "dataset = pd.concat([dataset_0,dataset_1])\n",
    "dataset = dataset.dropna()\n",
    "target_date = pd.to_datetime('2023-03-01')\n",
    "s = setup(data = dataset, target = 'Attachment', train_size=0.8, normalize = True, categorical_features = ['state', \n",
    "                                   'zip_code', 'cdt_code','insurance_plan_name','fee_schedule_name', 'insurance_type', \n",
    "                                  'plan_year_type'])\n",
    "rf = create_model('et')\n",
    "final_et = finalize_model(rf)\n",
    "save_model(final_et,'RF2')\n",
    "saved_final_rf = load_model('RF2')\n",
    "data_unseen_clinics = pd.read_csv('D:/dt.csv', index_col ='patient_id', parse_dates = True)\n",
    "target_date = pd.to_datetime('2023-02-24')\n",
    "data_unseen_clinics['patient_created_date'] = pd.to_datetime(data_unseen_clinics['patient_created_date'])\n",
    "data_unseen_clinics['account_length_days'] = (target_date - data_unseen_clinics['patient_created_date']).dt.days\n",
    "data_unseen_clinics = data_unseen_clinics.drop(columns = ['clinic_id','total_fee','patient_created_date'])\n",
    "unseen_predictions_clinics_2 = predict_model(saved_final_rf, data=data_unseen_clinics)\n",
    "data_unseen_clinics = pd.read_csv('D:/dt.csv', index_col ='patient_id', parse_dates = True)\n",
    "print(classification_report(unseen_predictions_clinics_2['Attachment'], unseen_predictions_clinics_2['prediction_label']))"
   ]
  },
  {
   "cell_type": "code",
   "execution_count": 2,
   "id": "9853d2b6",
   "metadata": {},
   "outputs": [
    {
     "name": "stdout",
     "output_type": "stream",
     "text": [
      "Running on local URL:  http://127.0.0.1:7868\n",
      "\n",
      "To create a public link, set `share=True` in `launch()`.\n"
     ]
    },
    {
     "data": {
      "text/html": [
       "<div><iframe src=\"http://127.0.0.1:7868/\" width=\"100%\" height=\"500\" allow=\"autoplay; camera; microphone; clipboard-read; clipboard-write;\" frameborder=\"0\" allowfullscreen></iframe></div>"
      ],
      "text/plain": [
       "<IPython.core.display.HTML object>"
      ]
     },
     "metadata": {},
     "output_type": "display_data"
    }
   ],
   "source": [
    "app = create_app(saved_final_rf) "
   ]
  }
 ],
 "metadata": {
  "kernelspec": {
   "display_name": "Python 3 (ipykernel)",
   "language": "python",
   "name": "python3"
  },
  "language_info": {
   "codemirror_mode": {
    "name": "ipython",
    "version": 3
   },
   "file_extension": ".py",
   "mimetype": "text/x-python",
   "name": "python",
   "nbconvert_exporter": "python",
   "pygments_lexer": "ipython3",
   "version": "3.9.13"
  }
 },
 "nbformat": 4,
 "nbformat_minor": 5
}

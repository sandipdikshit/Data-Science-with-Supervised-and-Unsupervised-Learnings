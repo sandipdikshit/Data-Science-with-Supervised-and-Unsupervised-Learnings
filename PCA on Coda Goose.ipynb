{
 "cells": [
  {
   "cell_type": "code",
   "execution_count": 71,
   "metadata": {},
   "outputs": [],
   "source": [
    "import pandas as pd\n",
    "from sklearn.decomposition import PCA\n",
    "import matplotlib.pyplot as plt\n",
    "import numpy as np\n",
    "import pandas as pd\n",
    "import scipy as sp\n",
    "import scipy.stats as stats\n",
    "import seaborn as sns\n",
    "import statsmodels.api as sm\n",
    "import warnings\n",
    "from mpl_toolkits import mplot3d\n",
    "from pylab import rcParams\n",
    "from scipy import stats\n",
    "from sklearn.base import TransformerMixin\n",
    "from sklearn.decomposition import PCA\n",
    "from sklearn.preprocessing import StandardScaler\n",
    "df = pd.read_csv(\"/Users/sandipdikshitarts/Desktop/Ca0da Goose.csv\")"
   ]
  },
  {
   "cell_type": "code",
   "execution_count": 72,
   "metadata": {},
   "outputs": [],
   "source": [
    "features = (\"stock_id\",\"SocialMedia\",\"Likes\",\"New Likes\",\"Growth\",\"Posts\",\"Comments\",\"C-Rate\",\"Post-Likes\",\"P-Rate\",\"Shares\",\"S-Rate\",\"Engage\",\"price\")"
   ]
  },
  {
   "cell_type": "code",
   "execution_count": 73,
   "metadata": {},
   "outputs": [
    {
     "data": {
      "text/html": [
       "<div>\n",
       "<style scoped>\n",
       "    .dataframe tbody tr th:only-of-type {\n",
       "        vertical-align: middle;\n",
       "    }\n",
       "\n",
       "    .dataframe tbody tr th {\n",
       "        vertical-align: top;\n",
       "    }\n",
       "\n",
       "    .dataframe thead th {\n",
       "        text-align: right;\n",
       "    }\n",
       "</style>\n",
       "<table border=\"1\" class=\"dataframe\">\n",
       "  <thead>\n",
       "    <tr style=\"text-align: right;\">\n",
       "      <th></th>\n",
       "      <th>Likes</th>\n",
       "      <th>New Likes</th>\n",
       "      <th>Growth</th>\n",
       "      <th>Posts</th>\n",
       "      <th>Comments</th>\n",
       "      <th>C-Rate</th>\n",
       "      <th>Post-Likes</th>\n",
       "      <th>P-Rate</th>\n",
       "      <th>Shares</th>\n",
       "      <th>S-Rate</th>\n",
       "      <th>Engage</th>\n",
       "      <th>price</th>\n",
       "    </tr>\n",
       "  </thead>\n",
       "  <tbody>\n",
       "    <tr>\n",
       "      <th>0</th>\n",
       "      <td>27016</td>\n",
       "      <td>376</td>\n",
       "      <td>0.0141</td>\n",
       "      <td>13</td>\n",
       "      <td>51</td>\n",
       "      <td>1.45</td>\n",
       "      <td>240</td>\n",
       "      <td>6.83</td>\n",
       "      <td>0</td>\n",
       "      <td>0.0</td>\n",
       "      <td>8.28</td>\n",
       "      <td>0.00</td>\n",
       "    </tr>\n",
       "    <tr>\n",
       "      <th>1</th>\n",
       "      <td>27427</td>\n",
       "      <td>411</td>\n",
       "      <td>0.0152</td>\n",
       "      <td>11</td>\n",
       "      <td>65</td>\n",
       "      <td>2.15</td>\n",
       "      <td>381</td>\n",
       "      <td>12.63</td>\n",
       "      <td>0</td>\n",
       "      <td>0.0</td>\n",
       "      <td>14.78</td>\n",
       "      <td>86.66</td>\n",
       "    </tr>\n",
       "    <tr>\n",
       "      <th>2</th>\n",
       "      <td>28246</td>\n",
       "      <td>819</td>\n",
       "      <td>0.0299</td>\n",
       "      <td>7</td>\n",
       "      <td>26</td>\n",
       "      <td>1.31</td>\n",
       "      <td>203</td>\n",
       "      <td>10.27</td>\n",
       "      <td>0</td>\n",
       "      <td>0.0</td>\n",
       "      <td>11.58</td>\n",
       "      <td>89.11</td>\n",
       "    </tr>\n",
       "    <tr>\n",
       "      <th>3</th>\n",
       "      <td>29732</td>\n",
       "      <td>1486</td>\n",
       "      <td>0.0526</td>\n",
       "      <td>12</td>\n",
       "      <td>46</td>\n",
       "      <td>1.29</td>\n",
       "      <td>288</td>\n",
       "      <td>8.07</td>\n",
       "      <td>0</td>\n",
       "      <td>0.0</td>\n",
       "      <td>9.36</td>\n",
       "      <td>79.77</td>\n",
       "    </tr>\n",
       "    <tr>\n",
       "      <th>4</th>\n",
       "      <td>32264</td>\n",
       "      <td>2532</td>\n",
       "      <td>0.0852</td>\n",
       "      <td>24</td>\n",
       "      <td>167</td>\n",
       "      <td>2.16</td>\n",
       "      <td>916</td>\n",
       "      <td>11.83</td>\n",
       "      <td>0</td>\n",
       "      <td>0.0</td>\n",
       "      <td>13.99</td>\n",
       "      <td>80.68</td>\n",
       "    </tr>\n",
       "  </tbody>\n",
       "</table>\n",
       "</div>"
      ],
      "text/plain": [
       "   Likes  New Likes  Growth  Posts  Comments  C-Rate  Post-Likes  P-Rate  \\\n",
       "0  27016        376  0.0141     13        51    1.45         240    6.83   \n",
       "1  27427        411  0.0152     11        65    2.15         381   12.63   \n",
       "2  28246        819  0.0299      7        26    1.31         203   10.27   \n",
       "3  29732       1486  0.0526     12        46    1.29         288    8.07   \n",
       "4  32264       2532  0.0852     24       167    2.16         916   11.83   \n",
       "\n",
       "   Shares  S-Rate  Engage  price  \n",
       "0       0     0.0    8.28   0.00  \n",
       "1       0     0.0   14.78  86.66  \n",
       "2       0     0.0   11.58  89.11  \n",
       "3       0     0.0    9.36  79.77  \n",
       "4       0     0.0   13.99  80.68  "
      ]
     },
     "execution_count": 73,
     "metadata": {},
     "output_type": "execute_result"
    }
   ],
   "source": [
    "df.head()"
   ]
  },
  {
   "cell_type": "code",
   "execution_count": 74,
   "metadata": {},
   "outputs": [],
   "source": [
    "target = \"price\""
   ]
  },
  {
   "cell_type": "code",
   "execution_count": 75,
   "metadata": {},
   "outputs": [],
   "source": [
    "target_col = \"price\"\n",
    "X = df.loc[:, df.columns != target_col]\n",
    "y = df.loc[:, target_col]"
   ]
  },
  {
   "cell_type": "code",
   "execution_count": 77,
   "metadata": {},
   "outputs": [
    {
     "data": {
      "text/html": [
       "<div>\n",
       "<style scoped>\n",
       "    .dataframe tbody tr th:only-of-type {\n",
       "        vertical-align: middle;\n",
       "    }\n",
       "\n",
       "    .dataframe tbody tr th {\n",
       "        vertical-align: top;\n",
       "    }\n",
       "\n",
       "    .dataframe thead th {\n",
       "        text-align: right;\n",
       "    }\n",
       "</style>\n",
       "<table border=\"1\" class=\"dataframe\">\n",
       "  <thead>\n",
       "    <tr style=\"text-align: right;\">\n",
       "      <th></th>\n",
       "      <th>price</th>\n",
       "      <th>Posts</th>\n",
       "      <th>P-Rate</th>\n",
       "      <th>Engage</th>\n",
       "      <th>S-Rate</th>\n",
       "      <th>C-Rate</th>\n",
       "      <th>Shares</th>\n",
       "      <th>Post-Likes</th>\n",
       "      <th>Comments</th>\n",
       "      <th>Growth</th>\n",
       "      <th>New Likes</th>\n",
       "      <th>Likes</th>\n",
       "    </tr>\n",
       "  </thead>\n",
       "  <tbody>\n",
       "    <tr>\n",
       "      <th>price</th>\n",
       "      <td>1.000000</td>\n",
       "      <td>0.159908</td>\n",
       "      <td>0.097909</td>\n",
       "      <td>0.091980</td>\n",
       "      <td>0.075285</td>\n",
       "      <td>0.005156</td>\n",
       "      <td>-0.010727</td>\n",
       "      <td>-0.010850</td>\n",
       "      <td>-0.012030</td>\n",
       "      <td>-0.034238</td>\n",
       "      <td>-0.140241</td>\n",
       "      <td>-0.268750</td>\n",
       "    </tr>\n",
       "    <tr>\n",
       "      <th>Posts</th>\n",
       "      <td>0.159908</td>\n",
       "      <td>1.000000</td>\n",
       "      <td>-0.008961</td>\n",
       "      <td>-0.031693</td>\n",
       "      <td>-0.228154</td>\n",
       "      <td>-0.134158</td>\n",
       "      <td>0.177429</td>\n",
       "      <td>0.303291</td>\n",
       "      <td>0.286114</td>\n",
       "      <td>0.035933</td>\n",
       "      <td>-0.112764</td>\n",
       "      <td>-0.242586</td>\n",
       "    </tr>\n",
       "    <tr>\n",
       "      <th>P-Rate</th>\n",
       "      <td>0.097909</td>\n",
       "      <td>-0.008961</td>\n",
       "      <td>1.000000</td>\n",
       "      <td>0.998121</td>\n",
       "      <td>0.823206</td>\n",
       "      <td>0.724603</td>\n",
       "      <td>0.374430</td>\n",
       "      <td>0.415009</td>\n",
       "      <td>0.399527</td>\n",
       "      <td>0.280911</td>\n",
       "      <td>0.238245</td>\n",
       "      <td>-0.119511</td>\n",
       "    </tr>\n",
       "    <tr>\n",
       "      <th>Engage</th>\n",
       "      <td>0.091980</td>\n",
       "      <td>-0.031693</td>\n",
       "      <td>0.998121</td>\n",
       "      <td>1.000000</td>\n",
       "      <td>0.835005</td>\n",
       "      <td>0.759661</td>\n",
       "      <td>0.366090</td>\n",
       "      <td>0.394979</td>\n",
       "      <td>0.395137</td>\n",
       "      <td>0.303939</td>\n",
       "      <td>0.242728</td>\n",
       "      <td>-0.128715</td>\n",
       "    </tr>\n",
       "    <tr>\n",
       "      <th>S-Rate</th>\n",
       "      <td>0.075285</td>\n",
       "      <td>-0.228154</td>\n",
       "      <td>0.823206</td>\n",
       "      <td>0.835005</td>\n",
       "      <td>1.000000</td>\n",
       "      <td>0.543145</td>\n",
       "      <td>0.384303</td>\n",
       "      <td>0.302672</td>\n",
       "      <td>0.325503</td>\n",
       "      <td>0.139692</td>\n",
       "      <td>0.236174</td>\n",
       "      <td>0.028917</td>\n",
       "    </tr>\n",
       "    <tr>\n",
       "      <th>C-Rate</th>\n",
       "      <td>0.005156</td>\n",
       "      <td>-0.134158</td>\n",
       "      <td>0.724603</td>\n",
       "      <td>0.759661</td>\n",
       "      <td>0.543145</td>\n",
       "      <td>1.000000</td>\n",
       "      <td>0.128566</td>\n",
       "      <td>0.094347</td>\n",
       "      <td>0.247841</td>\n",
       "      <td>0.548684</td>\n",
       "      <td>0.205495</td>\n",
       "      <td>-0.285034</td>\n",
       "    </tr>\n",
       "    <tr>\n",
       "      <th>Shares</th>\n",
       "      <td>-0.010727</td>\n",
       "      <td>0.177429</td>\n",
       "      <td>0.374430</td>\n",
       "      <td>0.366090</td>\n",
       "      <td>0.384303</td>\n",
       "      <td>0.128566</td>\n",
       "      <td>1.000000</td>\n",
       "      <td>0.949667</td>\n",
       "      <td>0.938332</td>\n",
       "      <td>0.002479</td>\n",
       "      <td>0.257773</td>\n",
       "      <td>0.320625</td>\n",
       "    </tr>\n",
       "    <tr>\n",
       "      <th>Post-Likes</th>\n",
       "      <td>-0.010850</td>\n",
       "      <td>0.303291</td>\n",
       "      <td>0.415009</td>\n",
       "      <td>0.394979</td>\n",
       "      <td>0.302672</td>\n",
       "      <td>0.094347</td>\n",
       "      <td>0.949667</td>\n",
       "      <td>1.000000</td>\n",
       "      <td>0.916031</td>\n",
       "      <td>0.004166</td>\n",
       "      <td>0.265091</td>\n",
       "      <td>0.323780</td>\n",
       "    </tr>\n",
       "    <tr>\n",
       "      <th>Comments</th>\n",
       "      <td>-0.012030</td>\n",
       "      <td>0.286114</td>\n",
       "      <td>0.399527</td>\n",
       "      <td>0.395137</td>\n",
       "      <td>0.325503</td>\n",
       "      <td>0.247841</td>\n",
       "      <td>0.938332</td>\n",
       "      <td>0.916031</td>\n",
       "      <td>1.000000</td>\n",
       "      <td>0.153724</td>\n",
       "      <td>0.355465</td>\n",
       "      <td>0.253286</td>\n",
       "    </tr>\n",
       "    <tr>\n",
       "      <th>Growth</th>\n",
       "      <td>-0.034238</td>\n",
       "      <td>0.035933</td>\n",
       "      <td>0.280911</td>\n",
       "      <td>0.303939</td>\n",
       "      <td>0.139692</td>\n",
       "      <td>0.548684</td>\n",
       "      <td>0.002479</td>\n",
       "      <td>0.004166</td>\n",
       "      <td>0.153724</td>\n",
       "      <td>1.000000</td>\n",
       "      <td>0.616227</td>\n",
       "      <td>-0.213391</td>\n",
       "    </tr>\n",
       "    <tr>\n",
       "      <th>New Likes</th>\n",
       "      <td>-0.140241</td>\n",
       "      <td>-0.112764</td>\n",
       "      <td>0.238245</td>\n",
       "      <td>0.242728</td>\n",
       "      <td>0.236174</td>\n",
       "      <td>0.205495</td>\n",
       "      <td>0.257773</td>\n",
       "      <td>0.265091</td>\n",
       "      <td>0.355465</td>\n",
       "      <td>0.616227</td>\n",
       "      <td>1.000000</td>\n",
       "      <td>0.375017</td>\n",
       "    </tr>\n",
       "    <tr>\n",
       "      <th>Likes</th>\n",
       "      <td>-0.268750</td>\n",
       "      <td>-0.242586</td>\n",
       "      <td>-0.119511</td>\n",
       "      <td>-0.128715</td>\n",
       "      <td>0.028917</td>\n",
       "      <td>-0.285034</td>\n",
       "      <td>0.320625</td>\n",
       "      <td>0.323780</td>\n",
       "      <td>0.253286</td>\n",
       "      <td>-0.213391</td>\n",
       "      <td>0.375017</td>\n",
       "      <td>1.000000</td>\n",
       "    </tr>\n",
       "  </tbody>\n",
       "</table>\n",
       "</div>"
      ],
      "text/plain": [
       "               price     Posts    P-Rate    Engage    S-Rate    C-Rate  \\\n",
       "price       1.000000  0.159908  0.097909  0.091980  0.075285  0.005156   \n",
       "Posts       0.159908  1.000000 -0.008961 -0.031693 -0.228154 -0.134158   \n",
       "P-Rate      0.097909 -0.008961  1.000000  0.998121  0.823206  0.724603   \n",
       "Engage      0.091980 -0.031693  0.998121  1.000000  0.835005  0.759661   \n",
       "S-Rate      0.075285 -0.228154  0.823206  0.835005  1.000000  0.543145   \n",
       "C-Rate      0.005156 -0.134158  0.724603  0.759661  0.543145  1.000000   \n",
       "Shares     -0.010727  0.177429  0.374430  0.366090  0.384303  0.128566   \n",
       "Post-Likes -0.010850  0.303291  0.415009  0.394979  0.302672  0.094347   \n",
       "Comments   -0.012030  0.286114  0.399527  0.395137  0.325503  0.247841   \n",
       "Growth     -0.034238  0.035933  0.280911  0.303939  0.139692  0.548684   \n",
       "New Likes  -0.140241 -0.112764  0.238245  0.242728  0.236174  0.205495   \n",
       "Likes      -0.268750 -0.242586 -0.119511 -0.128715  0.028917 -0.285034   \n",
       "\n",
       "              Shares  Post-Likes  Comments    Growth  New Likes     Likes  \n",
       "price      -0.010727   -0.010850 -0.012030 -0.034238  -0.140241 -0.268750  \n",
       "Posts       0.177429    0.303291  0.286114  0.035933  -0.112764 -0.242586  \n",
       "P-Rate      0.374430    0.415009  0.399527  0.280911   0.238245 -0.119511  \n",
       "Engage      0.366090    0.394979  0.395137  0.303939   0.242728 -0.128715  \n",
       "S-Rate      0.384303    0.302672  0.325503  0.139692   0.236174  0.028917  \n",
       "C-Rate      0.128566    0.094347  0.247841  0.548684   0.205495 -0.285034  \n",
       "Shares      1.000000    0.949667  0.938332  0.002479   0.257773  0.320625  \n",
       "Post-Likes  0.949667    1.000000  0.916031  0.004166   0.265091  0.323780  \n",
       "Comments    0.938332    0.916031  1.000000  0.153724   0.355465  0.253286  \n",
       "Growth      0.002479    0.004166  0.153724  1.000000   0.616227 -0.213391  \n",
       "New Likes   0.257773    0.265091  0.355465  0.616227   1.000000  0.375017  \n",
       "Likes       0.320625    0.323780  0.253286 -0.213391   0.375017  1.000000  "
      ]
     },
     "execution_count": 77,
     "metadata": {},
     "output_type": "execute_result"
    }
   ],
   "source": [
    " #number of variables for heatmap\n",
    "cols = df.corr().nlargest(12, target_col)[target_col].index\n",
    "cm = df[cols].corr()\n",
    "cm"
   ]
  },
  {
   "cell_type": "code",
   "execution_count": 79,
   "metadata": {},
   "outputs": [],
   "source": [
    "X_with_constant = sm.add_constant(X)\n",
    "model = sm.OLS(y, X_with_constant)"
   ]
  },
  {
   "cell_type": "code",
   "execution_count": 94,
   "metadata": {},
   "outputs": [
    {
     "ename": "ValueError",
     "evalue": "cannot reshape array of size 103 into shape (100)",
     "output_type": "error",
     "traceback": [
      "\u001b[0;31m---------------------------------------------------------------------------\u001b[0m",
      "\u001b[0;31mValueError\u001b[0m                                Traceback (most recent call last)",
      "\u001b[0;32m<ipython-input-94-008847dbdfc6>\u001b[0m in \u001b[0;36m<module>\u001b[0;34m\u001b[0m\n\u001b[0;32m----> 1\u001b[0;31m \u001b[0mx_line\u001b[0m \u001b[0;34m=\u001b[0m \u001b[0mdf\u001b[0m\u001b[0;34m[\u001b[0m\u001b[0;34m\"Posts\"\u001b[0m\u001b[0;34m]\u001b[0m\u001b[0;34m.\u001b[0m\u001b[0mvalues\u001b[0m\u001b[0;34m.\u001b[0m\u001b[0mreshape\u001b[0m\u001b[0;34m(\u001b[0m\u001b[0;34m-\u001b[0m\u001b[0;36m100\u001b[0m\u001b[0;34m,\u001b[0m\u001b[0;36m100\u001b[0m\u001b[0;34m)\u001b[0m\u001b[0;34m\u001b[0m\u001b[0;34m\u001b[0m\u001b[0m\n\u001b[0m\u001b[1;32m      2\u001b[0m \u001b[0my_line\u001b[0m \u001b[0;34m=\u001b[0m \u001b[0mdf\u001b[0m\u001b[0;34m[\u001b[0m\u001b[0;34m\"Post-Likes \"\u001b[0m\u001b[0;34m]\u001b[0m\u001b[0;34m.\u001b[0m\u001b[0mvalues\u001b[0m\u001b[0;34m.\u001b[0m\u001b[0mreshape\u001b[0m\u001b[0;34m(\u001b[0m\u001b[0;34m-\u001b[0m\u001b[0;36m100\u001b[0m\u001b[0;34m,\u001b[0m\u001b[0;36m100\u001b[0m\u001b[0;34m)\u001b[0m\u001b[0;34m\u001b[0m\u001b[0;34m\u001b[0m\u001b[0m\n\u001b[1;32m      3\u001b[0m \u001b[0mz_line\u001b[0m \u001b[0;34m=\u001b[0m \u001b[0mdf\u001b[0m\u001b[0;34m[\u001b[0m\u001b[0;34m\"New Likes\"\u001b[0m\u001b[0;34m]\u001b[0m\u001b[0;34m.\u001b[0m\u001b[0mvalues\u001b[0m\u001b[0;34m.\u001b[0m\u001b[0mreshape\u001b[0m\u001b[0;34m(\u001b[0m\u001b[0;34m-\u001b[0m\u001b[0;36m100\u001b[0m\u001b[0;34m,\u001b[0m\u001b[0;36m100\u001b[0m\u001b[0;34m)\u001b[0m\u001b[0;34m\u001b[0m\u001b[0;34m\u001b[0m\u001b[0m\n",
      "\u001b[0;31mValueError\u001b[0m: cannot reshape array of size 103 into shape (100)"
     ]
    }
   ],
   "source": [
    "x_line = df[\"Posts\"].values.reshape(-100,100)\n",
    "y_line = df[\"Post-Likes\t\"].values.reshape(-100,100)\n",
    "z_line = df[\"New Likes\"].values.reshape(-100,100)"
   ]
  },
  {
   "cell_type": "code",
   "execution_count": 80,
   "metadata": {},
   "outputs": [
    {
     "name": "stdout",
     "output_type": "stream",
     "text": [
      "                            OLS Regression Results                            \n",
      "==============================================================================\n",
      "Dep. Variable:                  price   R-squared:                       0.121\n",
      "Model:                            OLS   Adj. R-squared:                  0.026\n",
      "Method:                 Least Squares   F-statistic:                     1.269\n",
      "Date:                Fri, 27 Nov 2020   Prob (F-statistic):              0.260\n",
      "Time:                        19:27:33   Log-Likelihood:                -547.10\n",
      "No. Observations:                 103   AIC:                             1116.\n",
      "Df Residuals:                      92   BIC:                             1145.\n",
      "Df Model:                          10                                         \n",
      "Covariance Type:            nonrobust                                         \n",
      "==============================================================================\n",
      "                 coef    std err          t      P>|t|      [0.025      0.975]\n",
      "------------------------------------------------------------------------------\n",
      "const         71.4070     19.760      3.614      0.000      32.161     110.653\n",
      "Likes      -7.568e-05   4.34e-05     -1.744      0.085      -0.000    1.05e-05\n",
      "New Likes     -0.0002      0.001     -0.180      0.858      -0.003       0.002\n",
      "Growth       -27.0820    322.020     -0.084      0.933    -666.642     612.478\n",
      "Posts          0.3255      0.465      0.700      0.485      -0.598       1.249\n",
      "Comments       0.0115      0.052      0.221      0.826      -0.092       0.115\n",
      "C-Rate       -16.3173     13.308     -1.226      0.223     -42.748      10.113\n",
      "Post-Likes    -0.0024      0.004     -0.672      0.503      -0.009       0.005\n",
      "P-Rate         6.5749     11.327      0.580      0.563     -15.921      29.071\n",
      "Shares         0.0331      0.079      0.422      0.674      -0.123       0.189\n",
      "S-Rate         5.2343     22.056      0.237      0.813     -38.570      49.039\n",
      "Engage        -4.5081      9.022     -0.500      0.619     -22.427      13.411\n",
      "==============================================================================\n",
      "Omnibus:                        3.401   Durbin-Watson:                   2.390\n",
      "Prob(Omnibus):                  0.183   Jarque-Bera (JB):                2.827\n",
      "Skew:                           0.388   Prob(JB):                        0.243\n",
      "Kurtosis:                       3.240   Cond. No.                     2.47e+20\n",
      "==============================================================================\n",
      "\n",
      "Notes:\n",
      "[1] Standard Errors assume that the covariance matrix of the errors is correctly specified.\n",
      "[2] The smallest eigenvalue is 1.53e-28. This might indicate that there are\n",
      "strong multicollinearity problems or that the design matrix is singular.\n"
     ]
    }
   ],
   "source": [
    "results = model.fit()\n",
    "print(results.summary())"
   ]
  },
  {
   "cell_type": "code",
   "execution_count": 83,
   "metadata": {},
   "outputs": [],
   "source": [
    "X_std = StandardScaler().fit_transform(X)"
   ]
  },
  {
   "cell_type": "code",
   "execution_count": 84,
   "metadata": {},
   "outputs": [
    {
     "data": {
      "image/png": "[encoded data removed]",
      "text/plain": [
       "<Figure size 432x288 with 1 Axes>"
      ]
     },
     "metadata": {
      "needs_background": "light"
     },
     "output_type": "display_data"
    }
   ],
   "source": [
    "pca = PCA().fit(X_std)\n",
    "#Plotting the Cumulative Summation of the Explained Variance\n",
    "plt.figure()\n",
    "plt.plot(np.cumsum(pca.explained_variance_ratio_))\n",
    "plt.xlabel('Number of Components')\n",
    "plt.ylabel('Variance (%)') #for each component\n",
    "plt.title('Pulsar Dataset Explained Variance')\n",
    "plt.show()\n"
   ]
  },
  {
   "cell_type": "code",
   "execution_count": 85,
   "metadata": {},
   "outputs": [
    {
     "data": {
      "text/plain": [
       "array([0.41270382, 0.63597357, 0.77096133, 0.89331389, 0.93970824,\n",
       "       0.96860696, 0.98368608, 0.99548154, 0.99871056, 1.        ,\n",
       "       1.        ])"
      ]
     },
     "execution_count": 85,
     "metadata": {},
     "output_type": "execute_result"
    }
   ],
   "source": [
    "np.cumsum(pca.explained_variance_ratio_)"
   ]
  },
  {
   "cell_type": "code",
   "execution_count": 95,
   "metadata": {},
   "outputs": [
    {
     "data": {
      "text/plain": [
       "array([0.41270382])"
      ]
     },
     "execution_count": 95,
     "metadata": {},
     "output_type": "execute_result"
    }
   ],
   "source": [
    "pca.explained_variance_ratio_"
   ]
  },
  {
   "cell_type": "code",
   "execution_count": 86,
   "metadata": {},
   "outputs": [],
   "source": [
    "pca = PCA(n_components=1)\n",
    "X_pca = pca.fit_transform(X_std)"
   ]
  },
  {
   "cell_type": "code",
   "execution_count": 87,
   "metadata": {},
   "outputs": [],
   "source": [
    "X_pca_with_constant = sm.add_constant(X_pca)\n",
    "model = sm.OLS(y, X_pca_with_constant)"
   ]
  },
  {
   "cell_type": "code",
   "execution_count": 88,
   "metadata": {},
   "outputs": [
    {
     "name": "stdout",
     "output_type": "stream",
     "text": [
      "                            OLS Regression Results                            \n",
      "==============================================================================\n",
      "Dep. Variable:                  price   R-squared:                       0.001\n",
      "Model:                            OLS   Adj. R-squared:                 -0.009\n",
      "Method:                 Least Squares   F-statistic:                   0.05220\n",
      "Date:                Fri, 27 Nov 2020   Prob (F-statistic):              0.820\n",
      "Time:                        19:31:39   Log-Likelihood:                -553.73\n",
      "No. Observations:                 103   AIC:                             1111.\n",
      "Df Residuals:                     101   BIC:                             1117.\n",
      "Df Model:                           1                                         \n",
      "Covariance Type:            nonrobust                                         \n",
      "==============================================================================\n",
      "                 coef    std err          t      P>|t|      [0.025      0.975]\n",
      "------------------------------------------------------------------------------\n",
      "const         63.1064      5.205     12.125      0.000      52.782      73.431\n",
      "x1             0.5581      2.443      0.228      0.820      -4.288       5.404\n",
      "==============================================================================\n",
      "Omnibus:                       10.232   Durbin-Watson:                   2.045\n",
      "Prob(Omnibus):                  0.006   Jarque-Bera (JB):               11.289\n",
      "Skew:                           0.807   Prob(JB):                      0.00354\n",
      "Kurtosis:                       2.838   Cond. No.                         2.13\n",
      "==============================================================================\n",
      "\n",
      "Notes:\n",
      "[1] Standard Errors assume that the covariance matrix of the errors is correctly specified.\n"
     ]
    }
   ],
   "source": [
    "results = model.fit()\n",
    "print(results.summary())"
   ]
  },
  {
   "cell_type": "code",
   "execution_count": 89,
   "metadata": {},
   "outputs": [
    {
     "data": {
      "image/png": "[encoded data removed]",
      "text/plain": [
       "<Figure size 432x288 with 1 Axes>"
      ]
     },
     "metadata": {
      "needs_background": "light"
     },
     "output_type": "display_data"
    }
   ],
   "source": [
    "plt.scatter(X_pca, y)\n",
    "plt.plot(X_pca, results.predict(X_pca_with_constant), color = 'blue')\n",
    "plt.show()"
   ]
  },
  {
   "cell_type": "code",
   "execution_count": null,
   "metadata": {},
   "outputs": [],
   "source": []
  }
 ],
 "metadata": {
  "kernelspec": {
   "display_name": "Python 3",
   "language": "python",
   "name": "python3"
  },
  "language_info": {
   "codemirror_mode": {
    "name": "ipython",
    "version": 3
   },
   "file_extension": ".py",
   "mimetype": "text/x-python",
   "name": "python",
   "nbconvert_exporter": "python",
   "pygments_lexer": "ipython3",
   "version": "3.8.5"
  }
 },
 "nbformat": 4,
 "nbformat_minor": 4
}

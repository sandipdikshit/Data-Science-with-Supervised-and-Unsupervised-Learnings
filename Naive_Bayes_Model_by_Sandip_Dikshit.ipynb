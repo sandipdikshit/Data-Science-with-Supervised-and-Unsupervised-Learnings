{
  "nbformat": 4,
  "nbformat_minor": 0,
  "metadata": {
    "colab": {
      "name": "Naive_Bayes Model by Sandip Dikshit",
      "provenance": [],
      "collapsed_sections": [],
      "include_colab_link": true
    },
    "kernelspec": {
      "display_name": "Python 3",
      "name": "python3"
    }
  },
  "cells": [
    {
      "cell_type": "markdown",
      "metadata": {
        "id": "view-in-github",
        "colab_type": "text"
      },
      "source": [
        "<a href=\"https://colab.research.google.com/github/sandipdikshit/Data-Science-with-Supervised-and-Unsupervised-Learnings/blob/main/Naive_Bayes_Model_by_Sandip_Dikshit.ipynb\" target=\"_parent\"><img src=\"https://colab.research.google.com/assets/colab-badge.svg\" alt=\"Open In Colab\"/></a>"
      ]
    },
    {
      "cell_type": "code",
      "metadata": {
        "id": "KywBgAK68DML"
      },
      "source": [
        "df = {'Color': ['red', 'red', 'red','yellow','yellow','yellow','yellow', 'yellow', 'yellow','red'],\n",
        "    'Type': ['sports','sports','sports','sports','sports','SUV','SUV','SUV','SUV','sports'],\n",
        "    'Origin': ['domestic','domestic','domestic','domestic','imported','imported','imported','domestic','imported','domestic'],\n",
        "    'Stolen': ['yes','no', 'yes','no', 'yes','no','yes', 'no', 'no','yes'] }\n",
        "\n",
        "    "
      ],
      "execution_count": 2,
      "outputs": []
    },
    {
      "cell_type": "code",
      "metadata": {
        "id": "RYoxDf3B9Tal"
      },
      "source": [
        "import pandas as pd, matplotlib.pyplot as plt, seaborn as sns\n",
        "from sklearn import preprocessing\n",
        "from sklearn.metrics import confusion_matrix, classification_report\n",
        "from sklearn import metrics\n",
        "from sklearn.naive_bayes import GaussianNB\n",
        "from sklearn.model_selection import train_test_split"
      ],
      "execution_count": 3,
      "outputs": []
    },
    {
      "cell_type": "code",
      "metadata": {
        "id": "5MwtJ1hf8GVY",
        "colab": {
          "base_uri": "https://localhost:8080/",
          "height": 359
        },
        "outputId": "063b286d-58f4-4df9-ac10-e78213f9b5be"
      },
      "source": [
        "import pandas as pd \n",
        "df = pd.DataFrame(df)\n",
        "df"
      ],
      "execution_count": 4,
      "outputs": [
        {
          "output_type": "execute_result",
          "data": {
            "text/html": [
              "<div>\n",
              "<style scoped>\n",
              "    .dataframe tbody tr th:only-of-type {\n",
              "        vertical-align: middle;\n",
              "    }\n",
              "\n",
              "    .dataframe tbody tr th {\n",
              "        vertical-align: top;\n",
              "    }\n",
              "\n",
              "    .dataframe thead th {\n",
              "        text-align: right;\n",
              "    }\n",
              "</style>\n",
              "<table border=\"1\" class=\"dataframe\">\n",
              "  <thead>\n",
              "    <tr style=\"text-align: right;\">\n",
              "      <th></th>\n",
              "      <th>Color</th>\n",
              "      <th>Type</th>\n",
              "      <th>Origin</th>\n",
              "      <th>Stolen</th>\n",
              "    </tr>\n",
              "  </thead>\n",
              "  <tbody>\n",
              "    <tr>\n",
              "      <th>0</th>\n",
              "      <td>red</td>\n",
              "      <td>sports</td>\n",
              "      <td>domestic</td>\n",
              "      <td>yes</td>\n",
              "    </tr>\n",
              "    <tr>\n",
              "      <th>1</th>\n",
              "      <td>red</td>\n",
              "      <td>sports</td>\n",
              "      <td>domestic</td>\n",
              "      <td>no</td>\n",
              "    </tr>\n",
              "    <tr>\n",
              "      <th>2</th>\n",
              "      <td>red</td>\n",
              "      <td>sports</td>\n",
              "      <td>domestic</td>\n",
              "      <td>yes</td>\n",
              "    </tr>\n",
              "    <tr>\n",
              "      <th>3</th>\n",
              "      <td>yellow</td>\n",
              "      <td>sports</td>\n",
              "      <td>domestic</td>\n",
              "      <td>no</td>\n",
              "    </tr>\n",
              "    <tr>\n",
              "      <th>4</th>\n",
              "      <td>yellow</td>\n",
              "      <td>sports</td>\n",
              "      <td>imported</td>\n",
              "      <td>yes</td>\n",
              "    </tr>\n",
              "    <tr>\n",
              "      <th>5</th>\n",
              "      <td>yellow</td>\n",
              "      <td>SUV</td>\n",
              "      <td>imported</td>\n",
              "      <td>no</td>\n",
              "    </tr>\n",
              "    <tr>\n",
              "      <th>6</th>\n",
              "      <td>yellow</td>\n",
              "      <td>SUV</td>\n",
              "      <td>imported</td>\n",
              "      <td>yes</td>\n",
              "    </tr>\n",
              "    <tr>\n",
              "      <th>7</th>\n",
              "      <td>yellow</td>\n",
              "      <td>SUV</td>\n",
              "      <td>domestic</td>\n",
              "      <td>no</td>\n",
              "    </tr>\n",
              "    <tr>\n",
              "      <th>8</th>\n",
              "      <td>yellow</td>\n",
              "      <td>SUV</td>\n",
              "      <td>imported</td>\n",
              "      <td>no</td>\n",
              "    </tr>\n",
              "    <tr>\n",
              "      <th>9</th>\n",
              "      <td>red</td>\n",
              "      <td>sports</td>\n",
              "      <td>domestic</td>\n",
              "      <td>yes</td>\n",
              "    </tr>\n",
              "  </tbody>\n",
              "</table>\n",
              "</div>"
            ],
            "text/plain": [
              "    Color    Type    Origin Stolen\n",
              "0     red  sports  domestic    yes\n",
              "1     red  sports  domestic     no\n",
              "2     red  sports  domestic    yes\n",
              "3  yellow  sports  domestic     no\n",
              "4  yellow  sports  imported    yes\n",
              "5  yellow     SUV  imported     no\n",
              "6  yellow     SUV  imported    yes\n",
              "7  yellow     SUV  domestic     no\n",
              "8  yellow     SUV  imported     no\n",
              "9     red  sports  domestic    yes"
            ]
          },
          "metadata": {
            "tags": []
          },
          "execution_count": 4
        }
      ]
    },
    {
      "cell_type": "code",
      "metadata": {
        "id": "iWCkAYqr8SS4"
      },
      "source": [
        "from sklearn import preprocessing\n",
        "Color=preprocessing.LabelEncoder().fit_transform(df.loc[:,'Color'])\n",
        "Type=preprocessing.LabelEncoder().fit_transform(df.loc[:,'Type'])\n",
        "Origin=preprocessing.LabelEncoder().fit_transform(df.loc[:,'Origin'])\n",
        "Stolen = preprocessing.LabelEncoder().fit_transform(df.loc[:,'Stolen'])\n",
        "x,y = Color.reshape(-1,1),Stolen"
      ],
      "execution_count": 5,
      "outputs": []
    },
    {
      "cell_type": "code",
      "metadata": {
        "id": "XJeMqAto8ULO",
        "colab": {
          "base_uri": "https://localhost:8080/"
        },
        "outputId": "d8d855a0-c614-4d85-8520-79c93c3355eb"
      },
      "source": [
        "print(\"\\n\\nColor : \",Color, \"\\n\\nType : \",Type,\"\\n\\nOrigin : \",Origin,\"\\n\\nStolen : \",Stolen,\"\\n\\n\")"
      ],
      "execution_count": 6,
      "outputs": [
        {
          "output_type": "stream",
          "text": [
            "\n",
            "\n",
            "Color :  [0 0 0 1 1 1 1 1 1 0] \n",
            "\n",
            "Type :  [1 1 1 1 1 0 0 0 0 1] \n",
            "\n",
            "Origin :  [0 0 0 0 1 1 1 0 1 0] \n",
            "\n",
            "Stolen :  [1 0 1 0 1 0 1 0 0 1] \n",
            "\n",
            "\n"
          ],
          "name": "stdout"
        }
      ]
    },
    {
      "cell_type": "code",
      "metadata": {
        "id": "78QqOfA680Fr",
        "colab": {
          "base_uri": "https://localhost:8080/"
        },
        "outputId": "522b310c-ddec-4b0c-d418-ebb7fb56073e"
      },
      "source": [
        "\n",
        "model = GaussianNB().fit(x,y)\n",
        "a = input(\"\\n\\nChoose Color : Red:0 or Yellow:1  =\")\n",
        "b = input(\"\\n\\nChoose Type : Sports:1 or SUV:0  =\")\n",
        "c = input(\"\\n\\nChoose Origin : Domestic:0 or Imported:1  =\")\n",
        "\n",
        "#Store the output in the y_pred :\n",
        "y_pred = model.predict([[int(a),int(b),int(c)]])\n",
        "#for_loop to predict customisable output\n",
        "if y_pred ==[1]:\n",
        "    print(\"\\n\\nAnswer : Chances of being Stolen is HIGH \\n\\n\")\n",
        "else: \n",
        "    print(\"\\n\\nAnswer : Won't be Stolen, Car is SAFE \\n\\n\")"
      ],
      "execution_count": 7,
      "outputs": [
        {
          "output_type": "stream",
          "text": [
            "\n",
            "\n",
            "Choose Color : Red:0 or Yellow:1  =0\n",
            "\n",
            "\n",
            "Choose Type : Sports:1 or SUV:0  =0\n",
            "\n",
            "\n",
            "Choose Origin : Domestic:0 or Imported:1  =0\n",
            "\n",
            "\n",
            "Answer : Chances of being Stolen is HIGH \n",
            "\n",
            "\n"
          ],
          "name": "stdout"
        }
      ]
    },
    {
      "cell_type": "code",
      "metadata": {
        "id": "a8T5Ffhq_LoW"
      },
      "source": [
        "print(classification_report(y_pred,y_test))"
      ],
      "execution_count": 1,
      "outputs": []
    }
  ]
}
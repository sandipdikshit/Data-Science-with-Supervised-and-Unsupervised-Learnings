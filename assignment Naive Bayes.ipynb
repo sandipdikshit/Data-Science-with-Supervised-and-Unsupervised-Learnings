{
 "cells": [
  {
   "cell_type": "raw",
   "metadata": {},
   "source": [
    "Sandip Dikshit 25133"
   ]
  },
  {
   "cell_type": "code",
   "execution_count": 59,
   "metadata": {},
   "outputs": [],
   "source": [
    "df = {\n",
    "    'Color': ['red', 'red', 'red','yellow','yellow','yellow','yellow', 'yellow', 'yellow','red'],\n",
    "    'Type': ['sports','sports','sports','sports','sports','SUV','SUV','SUV','SUV','sports'],\n",
    "    'Origin': ['domestic','domestic','domestic','domestic','imported','imported','imported','domestic','imported','domestic'],\n",
    "    'Stolen': ['yes','no', 'yes','no', 'yes','no','yes', 'no', 'no','yes']\n",
    "}"
   ]
  },
  {
   "cell_type": "code",
   "execution_count": 62,
   "metadata": {},
   "outputs": [
    {
     "data": {
      "text/html": [
       "<div>\n",
       "<style scoped>\n",
       "    .dataframe tbody tr th:only-of-type {\n",
       "        vertical-align: middle;\n",
       "    }\n",
       "\n",
       "    .dataframe tbody tr th {\n",
       "        vertical-align: top;\n",
       "    }\n",
       "\n",
       "    .dataframe thead th {\n",
       "        text-align: right;\n",
       "    }\n",
       "</style>\n",
       "<table border=\"1\" class=\"dataframe\">\n",
       "  <thead>\n",
       "    <tr style=\"text-align: right;\">\n",
       "      <th></th>\n",
       "      <th>Color</th>\n",
       "      <th>Type</th>\n",
       "      <th>Origin</th>\n",
       "      <th>Stolen</th>\n",
       "    </tr>\n",
       "  </thead>\n",
       "  <tbody>\n",
       "    <tr>\n",
       "      <th>0</th>\n",
       "      <td>red</td>\n",
       "      <td>sports</td>\n",
       "      <td>domestic</td>\n",
       "      <td>yes</td>\n",
       "    </tr>\n",
       "    <tr>\n",
       "      <th>1</th>\n",
       "      <td>red</td>\n",
       "      <td>sports</td>\n",
       "      <td>domestic</td>\n",
       "      <td>no</td>\n",
       "    </tr>\n",
       "    <tr>\n",
       "      <th>2</th>\n",
       "      <td>red</td>\n",
       "      <td>sports</td>\n",
       "      <td>domestic</td>\n",
       "      <td>yes</td>\n",
       "    </tr>\n",
       "    <tr>\n",
       "      <th>3</th>\n",
       "      <td>yellow</td>\n",
       "      <td>sports</td>\n",
       "      <td>domestic</td>\n",
       "      <td>no</td>\n",
       "    </tr>\n",
       "    <tr>\n",
       "      <th>4</th>\n",
       "      <td>yellow</td>\n",
       "      <td>sports</td>\n",
       "      <td>imported</td>\n",
       "      <td>yes</td>\n",
       "    </tr>\n",
       "    <tr>\n",
       "      <th>5</th>\n",
       "      <td>yellow</td>\n",
       "      <td>SUV</td>\n",
       "      <td>imported</td>\n",
       "      <td>no</td>\n",
       "    </tr>\n",
       "    <tr>\n",
       "      <th>6</th>\n",
       "      <td>yellow</td>\n",
       "      <td>SUV</td>\n",
       "      <td>imported</td>\n",
       "      <td>yes</td>\n",
       "    </tr>\n",
       "    <tr>\n",
       "      <th>7</th>\n",
       "      <td>yellow</td>\n",
       "      <td>SUV</td>\n",
       "      <td>domestic</td>\n",
       "      <td>no</td>\n",
       "    </tr>\n",
       "    <tr>\n",
       "      <th>8</th>\n",
       "      <td>yellow</td>\n",
       "      <td>SUV</td>\n",
       "      <td>imported</td>\n",
       "      <td>no</td>\n",
       "    </tr>\n",
       "    <tr>\n",
       "      <th>9</th>\n",
       "      <td>red</td>\n",
       "      <td>sports</td>\n",
       "      <td>domestic</td>\n",
       "      <td>yes</td>\n",
       "    </tr>\n",
       "  </tbody>\n",
       "</table>\n",
       "</div>"
      ],
      "text/plain": [
       "    Color    Type    Origin Stolen\n",
       "0     red  sports  domestic    yes\n",
       "1     red  sports  domestic     no\n",
       "2     red  sports  domestic    yes\n",
       "3  yellow  sports  domestic     no\n",
       "4  yellow  sports  imported    yes\n",
       "5  yellow     SUV  imported     no\n",
       "6  yellow     SUV  imported    yes\n",
       "7  yellow     SUV  domestic     no\n",
       "8  yellow     SUV  imported     no\n",
       "9     red  sports  domestic    yes"
      ]
     },
     "execution_count": 62,
     "metadata": {},
     "output_type": "execute_result"
    }
   ],
   "source": [
    "df = pd.DataFrame(df)\n",
    "df"
   ]
  },
  {
   "cell_type": "code",
   "execution_count": 64,
   "metadata": {},
   "outputs": [],
   "source": [
    "Color=preprocessing.LabelEncoder().fit_transform(df.loc[:,'Color'])\n",
    "Type=preprocessing.LabelEncoder().fit_transform(df.loc[:,'Type'])\n",
    "Origin=preprocessing.LabelEncoder().fit_transform(df.loc[:,'Origin'])\n",
    "Stolen = preprocessing.LabelEncoder().fit_transform(df.loc[:,'Stolen'])\n",
    "x = Color.reshape(-1,1)\n",
    "y = Stolen"
   ]
  },
  {
   "cell_type": "code",
   "execution_count": 63,
   "metadata": {},
   "outputs": [
    {
     "name": "stdout",
     "output_type": "stream",
     "text": [
      "\n",
      "\n",
      " [0 0 0 1 1 1 1 1 1 0] \n",
      "\n",
      " [1 1 1 1 1 0 0 0 0 1] \n",
      "\n",
      " [0 0 0 0 1 1 1 0 1 0] \n",
      "\n",
      " [1 0 1 0 1 0 1 0 0 1] \n",
      "\n",
      "\n"
     ]
    }
   ],
   "source": [
    "print(\"\\n\\n\",Color, \"\\n\\n\",Type,\"\\n\\n\",Origin,\"\\n\\n\",Stolen,\"\\n\\n\")"
   ]
  },
  {
   "cell_type": "raw",
   "metadata": {},
   "source": [
    "Take inputs from the user for the model for prediction: "
   ]
  },
  {
   "cell_type": "code",
   "execution_count": 67,
   "metadata": {},
   "outputs": [
    {
     "name": "stdin",
     "output_type": "stream",
     "text": [
      "Choose color : Red:0 or Yellow:1)  =  0\n",
      "Type : Sports:1 or SUV:0  =  0\n",
      "Origin: Domestic:0 or Imported:1  =   0\n"
     ]
    },
    {
     "name": "stdout",
     "output_type": "stream",
     "text": [
      "\n",
      "\n",
      " Answer : Chances of being Stolen is high \n",
      "\n",
      "\n"
     ]
    }
   ],
   "source": [
    "model = GaussianNB().fit(x,y)\n",
    "a = input(\"Choose color : Red:0 or Yellow:1)  = \")\n",
    "b = input(\"Type : Sports:1 or SUV:0  = \")\n",
    "c = input(\"Origin: Domestic:0 or Imported:1  =  \")\n",
    "\n",
    "#Store the output in the y_pred :\n",
    "y_pred = model.predict([[int(a),int(b),int(c)]])\n",
    "\n",
    "#for_loop to predict customisable output\n",
    "if y_pred ==[1]:\n",
    "    print(\"\\n\\n Answer : Chances of being Stolen is high \\n\\n\")\n",
    "else: \n",
    "    print(\"\\n\\nAnswer : Won't be Stolen, Car is not safe \\n\\n\")"
   ]
  },
  {
   "cell_type": "code",
   "execution_count": null,
   "metadata": {},
   "outputs": [],
   "source": []
  }
 ],
 "metadata": {
  "kernelspec": {
   "display_name": "Python 3",
   "language": "python",
   "name": "python3"
  },
  "language_info": {
   "codemirror_mode": {
    "name": "ipython",
    "version": 3
   },
   "file_extension": ".py",
   "mimetype": "text/x-python",
   "name": "python",
   "nbconvert_exporter": "python",
   "pygments_lexer": "ipython3",
   "version": "3.8.5"
  }
 },
 "nbformat": 4,
 "nbformat_minor": 4
}

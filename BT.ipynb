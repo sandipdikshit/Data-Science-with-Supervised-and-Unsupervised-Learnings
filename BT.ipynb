{
  "nbformat": 4,
  "nbformat_minor": 0,
  "metadata": {
    "colab": {
      "name": "BT.ipynb",
      "provenance": [],
      "authorship_tag": "ABX9TyNIC4AhU0AaP4zxwJhLcEij",
      "include_colab_link": true
    },
    "kernelspec": {
      "name": "python3",
      "display_name": "Python 3"
    }
  },
  "cells": [
    {
      "cell_type": "markdown",
      "metadata": {
        "id": "view-in-github",
        "colab_type": "text"
      },
      "source": [
        "<a href=\"https://colab.research.google.com/github/sandipdikshit/Data-Science-with-Supervised-and-Unsupervised-Learnings/blob/main/BT.ipynb\" target=\"_parent\"><img src=\"https://colab.research.google.com/assets/colab-badge.svg\" alt=\"Open In Colab\"/></a>"
      ]
    },
    {
      "cell_type": "code",
      "metadata": {
        "colab": {
          "base_uri": "https://localhost:8080/"
        },
        "id": "BthIfk8lbOHV",
        "outputId": "4a8d93dd-a2ef-4488-bdf6-ad4657d3ccba"
      },
      "source": [
        "# Simple single asset potfolio rebalancing to 100% once per month\n",
        "import bt \n",
        "import pandas as pd \n",
        "import numpy as np\n",
        "\n",
        "data = bt.get('AAPL', start='2016-01-01', end='2016-03-31')\n",
        "data = bt.get('MSFT', start='2016-01-01', end='2016-03-31')\n",
        "dates = [pd.to_datetime(dte) for dte in ['2016-01-04', '2016-02-29']]\n",
        "weights = pd.DataFrame([.50,.50], index=dates, columns=data.columns)\n",
        "\n",
        "strategy = bt.Strategy('example', [bt.algos.RunOnDate(*dates),\n",
        "                                   bt.algos.WeighTarget(weights),\n",
        "                                   bt.algos.Rebalance()])                         \n",
        "                                   \n",
        "bt_gross = bt.Backtest(strategy, data, integer_positions=False,\n",
        "                       commissions=lambda q, p: 0, name='gross')\n",
        "bt_net = bt.Backtest(strategy, data, integer_positions=False,\n",
        "                     commissions=lambda q, p: abs(q) * p * 0.33, name='net')\n",
        "\n",
        "result = bt.run(bt_gross, bt_net)\n",
        "df_merge = bt.merge(result.get_transactions('gross'), result.get_transactions('net')) \n",
        "print(df_merge)   \n"
      ],
      "execution_count": 15,
      "outputs": [
        {
          "output_type": "stream",
          "text": [
            "                         price     quantity      price     quantity\n",
            "Date       Security                                                \n",
            "2016-01-04 msft      50.006744  9998.651305  50.006744  7517.782936\n",
            "2016-02-29 msft      46.762981   346.783437  46.762981  1193.396708\n"
          ],
          "name": "stdout"
        }
      ]
    },
    {
      "cell_type": "code",
      "metadata": {
        "colab": {
          "base_uri": "https://localhost:8080/"
        },
        "id": "Iy-DCvsfb8fh",
        "outputId": "2970806e-5000-45e9-c554-be9e43fad6df"
      },
      "source": [
        "pip install bt"
      ],
      "execution_count": 2,
      "outputs": [
        {
          "output_type": "stream",
          "text": [
            "Collecting bt\n",
            "\u001b[?25l  Downloading https://files.pythonhosted.org/packages/4a/46/125bc4daae5344d9fc26766cfb8d2e1fa4ae5d01109375952aabee3d1eb8/bt-0.2.8.tar.gz (2.8MB)\n",
            "\u001b[K     |████████████████████████████████| 2.8MB 12.3MB/s \n",
            "\u001b[?25h  Installing build dependencies ... \u001b[?25l\u001b[?25hdone\n",
            "  Getting requirements to build wheel ... \u001b[?25l\u001b[?25hdone\n",
            "    Preparing wheel metadata ... \u001b[?25l\u001b[?25hdone\n",
            "Collecting pyprind>=2.10\n",
            "  Downloading https://files.pythonhosted.org/packages/1e/30/e76fb0c45da8aef49ea8d2a90d4e7a6877b45894c25f12fb961f009a891e/PyPrind-2.11.2-py3-none-any.whl\n",
            "Collecting ffn>=0.3.5\n",
            "  Downloading https://files.pythonhosted.org/packages/81/f1/6dcfadb91e9ca0ddbe81dcfd8d86a60d0c58af92ce686b0da94296787e31/ffn-0.3.5-py3-none-any.whl\n",
            "Requirement already satisfied: pandas>=0.19 in /usr/local/lib/python3.6/dist-packages (from ffn>=0.3.5->bt) (1.1.5)\n",
            "Requirement already satisfied: numpy>=1.5 in /usr/local/lib/python3.6/dist-packages (from ffn>=0.3.5->bt) (1.19.5)\n",
            "Requirement already satisfied: pandas-datareader>=0.2 in /usr/local/lib/python3.6/dist-packages (from ffn>=0.3.5->bt) (0.9.0)\n",
            "Requirement already satisfied: scipy>=0.15 in /usr/local/lib/python3.6/dist-packages (from ffn>=0.3.5->bt) (1.4.1)\n",
            "Requirement already satisfied: matplotlib>=1 in /usr/local/lib/python3.6/dist-packages (from ffn>=0.3.5->bt) (3.2.2)\n",
            "Requirement already satisfied: scikit-learn>=0.15 in /usr/local/lib/python3.6/dist-packages (from ffn>=0.3.5->bt) (0.22.2.post1)\n",
            "Requirement already satisfied: future>=0.15 in /usr/local/lib/python3.6/dist-packages (from ffn>=0.3.5->bt) (0.16.0)\n",
            "Requirement already satisfied: tabulate>=0.7.5 in /usr/local/lib/python3.6/dist-packages (from ffn>=0.3.5->bt) (0.8.7)\n",
            "Requirement already satisfied: decorator>=4 in /usr/local/lib/python3.6/dist-packages (from ffn>=0.3.5->bt) (4.4.2)\n",
            "Requirement already satisfied: python-dateutil>=2.7.3 in /usr/local/lib/python3.6/dist-packages (from pandas>=0.19->ffn>=0.3.5->bt) (2.8.1)\n",
            "Requirement already satisfied: pytz>=2017.2 in /usr/local/lib/python3.6/dist-packages (from pandas>=0.19->ffn>=0.3.5->bt) (2018.9)\n",
            "Requirement already satisfied: lxml in /usr/local/lib/python3.6/dist-packages (from pandas-datareader>=0.2->ffn>=0.3.5->bt) (4.2.6)\n",
            "Requirement already satisfied: requests>=2.19.0 in /usr/local/lib/python3.6/dist-packages (from pandas-datareader>=0.2->ffn>=0.3.5->bt) (2.23.0)\n",
            "Requirement already satisfied: kiwisolver>=1.0.1 in /usr/local/lib/python3.6/dist-packages (from matplotlib>=1->ffn>=0.3.5->bt) (1.3.1)\n",
            "Requirement already satisfied: pyparsing!=2.0.4,!=2.1.2,!=2.1.6,>=2.0.1 in /usr/local/lib/python3.6/dist-packages (from matplotlib>=1->ffn>=0.3.5->bt) (2.4.7)\n",
            "Requirement already satisfied: cycler>=0.10 in /usr/local/lib/python3.6/dist-packages (from matplotlib>=1->ffn>=0.3.5->bt) (0.10.0)\n",
            "Requirement already satisfied: joblib>=0.11 in /usr/local/lib/python3.6/dist-packages (from scikit-learn>=0.15->ffn>=0.3.5->bt) (1.0.0)\n",
            "Requirement already satisfied: six>=1.5 in /usr/local/lib/python3.6/dist-packages (from python-dateutil>=2.7.3->pandas>=0.19->ffn>=0.3.5->bt) (1.15.0)\n",
            "Requirement already satisfied: certifi>=2017.4.17 in /usr/local/lib/python3.6/dist-packages (from requests>=2.19.0->pandas-datareader>=0.2->ffn>=0.3.5->bt) (2020.12.5)\n",
            "Requirement already satisfied: urllib3!=1.25.0,!=1.25.1,<1.26,>=1.21.1 in /usr/local/lib/python3.6/dist-packages (from requests>=2.19.0->pandas-datareader>=0.2->ffn>=0.3.5->bt) (1.24.3)\n",
            "Requirement already satisfied: chardet<4,>=3.0.2 in /usr/local/lib/python3.6/dist-packages (from requests>=2.19.0->pandas-datareader>=0.2->ffn>=0.3.5->bt) (3.0.4)\n",
            "Requirement already satisfied: idna<3,>=2.5 in /usr/local/lib/python3.6/dist-packages (from requests>=2.19.0->pandas-datareader>=0.2->ffn>=0.3.5->bt) (2.10)\n",
            "Building wheels for collected packages: bt\n",
            "  Building wheel for bt (PEP 517) ... \u001b[?25l\u001b[?25hdone\n",
            "  Created wheel for bt: filename=bt-0.2.8-cp36-cp36m-linux_x86_64.whl size=764539 sha256=43ed07b80a7e59efa682a1de97238b8c27b3466f46b0bdaa9a6888db5668dfa0\n",
            "  Stored in directory: /root/.cache/pip/wheels/d2/a3/b9/3ffad8df5d75eae7b0e3f9a7d68c9a8125c1b82f296a7c94cf\n",
            "Successfully built bt\n",
            "Installing collected packages: pyprind, ffn, bt\n",
            "Successfully installed bt-0.2.8 ffn-0.3.5 pyprind-2.11.2\n"
          ],
          "name": "stdout"
        }
      ]
    }
  ]
}
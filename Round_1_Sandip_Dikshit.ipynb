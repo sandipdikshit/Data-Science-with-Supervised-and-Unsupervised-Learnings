{
  "nbformat": 4,
  "nbformat_minor": 0,
  "metadata": {
    "colab": {
      "name": "Round_1_Sandip Dikshit",
      "provenance": [],
      "collapsed_sections": [],
      "include_colab_link": true
    },
    "language_info": {
      "codemirror_mode": {
        "name": "ipython",
        "version": 3
      },
      "file_extension": ".py",
      "mimetype": "text/x-python",
      "name": "python",
      "nbconvert_exporter": "python",
      "pygments_lexer": "ipython3",
      "version": "3.6.4"
    },
    "kernelspec": {
      "name": "python3",
      "display_name": "Python 3"
    },
    "accelerator": "GPU"
  },
  "cells": [
    {
      "cell_type": "markdown",
      "metadata": {
        "id": "view-in-github",
        "colab_type": "text"
      },
      "source": [
        "<a href=\"https://colab.research.google.com/github/sandipdikshit/Data-Science-with-Supervised-and-Unsupervised-Learnings/blob/main/Round_1_Sandip_Dikshit.ipynb\" target=\"_parent\"><img src=\"https://colab.research.google.com/assets/colab-badge.svg\" alt=\"Open In Colab\"/></a>"
      ]
    },
    {
      "cell_type": "markdown",
      "metadata": {
        "id": "ChrUTcdOni_t"
      },
      "source": [
        "## Round 1 : Problem Statement from Indegen:\n",
        "\n",
        "\n",
        "Monalisa, who is a Life sciences researcher does Pharmacovigilance (post-market drug safety surveillance) for Pharma Products.<br>\n",
        "Pharmacovigilance identifies ADRs (adverse drug reactions) after a drug’s release. Comprehensive knowledge of ADRs can reduce the detrimental impact on patient’s health system. Practically, clinical trials cannot investigate all settings in which a drug will be used, making it impossible to fully characterize the drug’s adverse effect profile before its approval. Pharmacovigilance methods continuously analyse frequently updated data sources, Twitter in particularly because of its large user base, demographic variability, and publicly available data.<br>\n",
        "ADR detection in social media requires automated methods to process the high data volume. It would greatly help her if she is able to automate the segmentation of Tweet into either ADR or NON- ADR, on the basis of Drug, Symptom and Effect mentioned in future.<br>\n",
        "\n",
        "**Our Job is to Classify the Tweet into the 2 segments:**\n",
        "\n",
        "- ADR\n",
        "\n",
        "- Non-ADR\n",
        "\n",
        "**Data Set:**\n",
        "<br>\n",
        "\n",
        "- Data set has tweets labelled as ADR and NON-ADR with column like user IDs, tweet IDs, and label along with the tweet.\n",
        "<br>\n",
        "- Since this is a supervised binary Classification Task based on Text-Data, we will preprocess our Text data & build our Model with accuracy of prediction as our Major Evaluation Parameter.\n",
        "\n",
        "**Data Set:**\n",
        "<br>\n",
        "\n",
        "- The methodologies are explained step by step"
      ]
    },
    {
      "cell_type": "markdown",
      "metadata": {
        "id": "6gRM6rrCni_x"
      },
      "source": [
        "## Step 1) Importing Packages and Loading Data"
      ]
    },
    {
      "cell_type": "code",
      "metadata": {
        "id": "nwRTte32ni_0"
      },
      "source": [
        "import numpy as np, pandas as pd, matplotlib.pyplot as plt, seaborn as sns"
      ],
      "execution_count": null,
      "outputs": []
    },
    {
      "cell_type": "code",
      "metadata": {
        "colab": {
          "base_uri": "https://localhost:8080/",
          "height": 17
        },
        "id": "zxpixPzHUrMH",
        "outputId": "3f593c18-2b18-4bf5-d78e-1c47f9f8298b"
      },
      "source": [
        "from plotly import tools\n",
        "import chart_studio.plotly as py, plotly.figure_factory as ff, plotly.graph_objs as go, warnings\n",
        "from plotly.offline import download_plotlyjs, init_notebook_mode, plot, iplot\n",
        "init_notebook_mode(connected=True)\n",
        "warnings.filterwarnings(\"ignore\")"
      ],
      "execution_count": null,
      "outputs": [
        {
          "output_type": "display_data",
          "data": {
            "text/html": [
              "        <script type=\"text/javascript\">\n",
              "        window.PlotlyConfig = {MathJaxConfig: 'local'};\n",
              "        if (window.MathJax) {MathJax.Hub.Config({SVG: {font: \"STIX-Web\"}});}\n",
              "        if (typeof require !== 'undefined') {\n",
              "        require.undef(\"plotly\");\n",
              "        requirejs.config({\n",
              "            paths: {\n",
              "                'plotly': ['https://cdn.plot.ly/plotly-latest.min']\n",
              "            }\n",
              "        });\n",
              "        require(['plotly'], function(Plotly) {\n",
              "            window._Plotly = Plotly;\n",
              "        });\n",
              "        }\n",
              "        </script>\n",
              "        "
            ]
          },
          "metadata": {
            "tags": []
          }
        }
      ]
    },
    {
      "cell_type": "markdown",
      "metadata": {
        "id": "SD-FyGEhni_9"
      },
      "source": [
        "## Step 2) Exploring the Data"
      ]
    },
    {
      "cell_type": "code",
      "metadata": {
        "id": "cANp6Oi4dU6n",
        "colab": {
          "resources": {
            "http://localhost:8080/nbextensions/google.colab/files.js": {
              "data": "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",
              "ok": true,
              "headers": [
                [
                  "content-type",
                  "application/javascript"
                ]
              ],
              "status": 200,
              "status_text": ""
            }
          },
          "base_uri": "https://localhost:8080/",
          "height": 259
        },
        "outputId": "2b20718b-ceca-4fe4-a188-57674ff2ca1c"
      },
      "source": [
        "#please upload your file from \"Choose files\" for Data Mining \n",
        "\n",
        "from google.colab import files\n",
        "uploaded = files.upload()\n",
        "import io\n",
        "df = pd.read_csv(io.BytesIO(uploaded['Data.csv']))\n",
        "df.head()"
      ],
      "execution_count": null,
      "outputs": [
        {
          "output_type": "display_data",
          "data": {
            "text/html": [
              "\n",
              "     <input type=\"file\" id=\"files-2d6a7c00-9310-4144-8f15-c4ac83f7c7ad\" name=\"files[]\" multiple disabled\n",
              "        style=\"border:none\" />\n",
              "     <output id=\"result-2d6a7c00-9310-4144-8f15-c4ac83f7c7ad\">\n",
              "      Upload widget is only available when the cell has been executed in the\n",
              "      current browser session. Please rerun this cell to enable.\n",
              "      </output>\n",
              "      <script src=\"/nbextensions/google.colab/files.js\"></script> "
            ],
            "text/plain": [
              "<IPython.core.display.HTML object>"
            ]
          },
          "metadata": {
            "tags": []
          }
        },
        {
          "output_type": "stream",
          "text": [
            "Saving Data.csv to Data (4).csv\n"
          ],
          "name": "stdout"
        },
        {
          "output_type": "execute_result",
          "data": {
            "text/html": [
              "<div>\n",
              "<style scoped>\n",
              "    .dataframe tbody tr th:only-of-type {\n",
              "        vertical-align: middle;\n",
              "    }\n",
              "\n",
              "    .dataframe tbody tr th {\n",
              "        vertical-align: top;\n",
              "    }\n",
              "\n",
              "    .dataframe thead th {\n",
              "        text-align: right;\n",
              "    }\n",
              "</style>\n",
              "<table border=\"1\" class=\"dataframe\">\n",
              "  <thead>\n",
              "    <tr style=\"text-align: right;\">\n",
              "      <th></th>\n",
              "      <th>UserId</th>\n",
              "      <th>TweetId</th>\n",
              "      <th>Tweet</th>\n",
              "      <th>ADR_label</th>\n",
              "    </tr>\n",
              "  </thead>\n",
              "  <tbody>\n",
              "    <tr>\n",
              "      <th>0</th>\n",
              "      <td>10030778</td>\n",
              "      <td>413205</td>\n",
              "      <td>Intravenous azithromycin-induced ototoxicity.</td>\n",
              "      <td>1</td>\n",
              "    </tr>\n",
              "    <tr>\n",
              "      <th>1</th>\n",
              "      <td>10048291</td>\n",
              "      <td>528244</td>\n",
              "      <td>Immobilization, while Paget's bone disease was...</td>\n",
              "      <td>1</td>\n",
              "    </tr>\n",
              "    <tr>\n",
              "      <th>2</th>\n",
              "      <td>10048291</td>\n",
              "      <td>361834</td>\n",
              "      <td>Unaccountable severe hypercalcemia in a patien...</td>\n",
              "      <td>1</td>\n",
              "    </tr>\n",
              "    <tr>\n",
              "      <th>3</th>\n",
              "      <td>10082597</td>\n",
              "      <td>292240</td>\n",
              "      <td>METHODS: We report two cases of pseudoporphyri...</td>\n",
              "      <td>1</td>\n",
              "    </tr>\n",
              "    <tr>\n",
              "      <th>4</th>\n",
              "      <td>10082597</td>\n",
              "      <td>467101</td>\n",
              "      <td>METHODS: We report two cases of pseudoporphyri...</td>\n",
              "      <td>1</td>\n",
              "    </tr>\n",
              "  </tbody>\n",
              "</table>\n",
              "</div>"
            ],
            "text/plain": [
              "     UserId  ...  ADR_label\n",
              "0  10030778  ...          1\n",
              "1  10048291  ...          1\n",
              "2  10048291  ...          1\n",
              "3  10082597  ...          1\n",
              "4  10082597  ...          1\n",
              "\n",
              "[5 rows x 4 columns]"
            ]
          },
          "metadata": {
            "tags": []
          },
          "execution_count": 8
        }
      ]
    },
    {
      "cell_type": "code",
      "metadata": {
        "id": "8HSyo68Eni__",
        "colab": {
          "base_uri": "https://localhost:8080/",
          "height": 297
        },
        "outputId": "c326ef89-b2ee-429e-ec34-ffe47ef11eb8"
      },
      "source": [
        "df.describe()"
      ],
      "execution_count": null,
      "outputs": [
        {
          "output_type": "execute_result",
          "data": {
            "text/html": [
              "<div>\n",
              "<style scoped>\n",
              "    .dataframe tbody tr th:only-of-type {\n",
              "        vertical-align: middle;\n",
              "    }\n",
              "\n",
              "    .dataframe tbody tr th {\n",
              "        vertical-align: top;\n",
              "    }\n",
              "\n",
              "    .dataframe thead th {\n",
              "        text-align: right;\n",
              "    }\n",
              "</style>\n",
              "<table border=\"1\" class=\"dataframe\">\n",
              "  <thead>\n",
              "    <tr style=\"text-align: right;\">\n",
              "      <th></th>\n",
              "      <th>UserId</th>\n",
              "      <th>TweetId</th>\n",
              "      <th>ADR_label</th>\n",
              "    </tr>\n",
              "  </thead>\n",
              "  <tbody>\n",
              "    <tr>\n",
              "      <th>count</th>\n",
              "      <td>2.351600e+04</td>\n",
              "      <td>23516.000000</td>\n",
              "      <td>23516.000000</td>\n",
              "    </tr>\n",
              "    <tr>\n",
              "      <th>mean</th>\n",
              "      <td>1.111427e+07</td>\n",
              "      <td>506575.615538</td>\n",
              "      <td>0.290100</td>\n",
              "    </tr>\n",
              "    <tr>\n",
              "      <th>std</th>\n",
              "      <td>5.544573e+06</td>\n",
              "      <td>286621.435825</td>\n",
              "      <td>0.453818</td>\n",
              "    </tr>\n",
              "    <tr>\n",
              "      <th>min</th>\n",
              "      <td>1.879500e+04</td>\n",
              "      <td>10029.000000</td>\n",
              "      <td>0.000000</td>\n",
              "    </tr>\n",
              "    <tr>\n",
              "      <th>25%</th>\n",
              "      <td>7.743588e+06</td>\n",
              "      <td>258683.000000</td>\n",
              "      <td>0.000000</td>\n",
              "    </tr>\n",
              "    <tr>\n",
              "      <th>50%</th>\n",
              "      <td>1.121584e+07</td>\n",
              "      <td>509308.500000</td>\n",
              "      <td>0.000000</td>\n",
              "    </tr>\n",
              "    <tr>\n",
              "      <th>75%</th>\n",
              "      <td>1.601816e+07</td>\n",
              "      <td>755094.000000</td>\n",
              "      <td>1.000000</td>\n",
              "    </tr>\n",
              "    <tr>\n",
              "      <th>max</th>\n",
              "      <td>2.046562e+07</td>\n",
              "      <td>999864.000000</td>\n",
              "      <td>1.000000</td>\n",
              "    </tr>\n",
              "  </tbody>\n",
              "</table>\n",
              "</div>"
            ],
            "text/plain": [
              "             UserId        TweetId     ADR_label\n",
              "count  2.351600e+04   23516.000000  23516.000000\n",
              "mean   1.111427e+07  506575.615538      0.290100\n",
              "std    5.544573e+06  286621.435825      0.453818\n",
              "min    1.879500e+04   10029.000000      0.000000\n",
              "25%    7.743588e+06  258683.000000      0.000000\n",
              "50%    1.121584e+07  509308.500000      0.000000\n",
              "75%    1.601816e+07  755094.000000      1.000000\n",
              "max    2.046562e+07  999864.000000      1.000000"
            ]
          },
          "metadata": {
            "tags": []
          },
          "execution_count": 12
        }
      ]
    },
    {
      "cell_type": "code",
      "metadata": {
        "id": "nDCtJz5rnjAQ",
        "colab": {
          "base_uri": "https://localhost:8080/"
        },
        "outputId": "40df7c02-9630-4f2a-ae0d-5477b5f1d04e"
      },
      "source": [
        "# No missing values.\n",
        "df.info()"
      ],
      "execution_count": null,
      "outputs": [
        {
          "output_type": "stream",
          "text": [
            "<class 'pandas.core.frame.DataFrame'>\n",
            "RangeIndex: 23516 entries, 0 to 23515\n",
            "Data columns (total 4 columns):\n",
            " #   Column     Non-Null Count  Dtype \n",
            "---  ------     --------------  ----- \n",
            " 0   UserId     23516 non-null  int64 \n",
            " 1   TweetId    23516 non-null  int64 \n",
            " 2   Tweet      23516 non-null  object\n",
            " 3   ADR_label  23516 non-null  int64 \n",
            "dtypes: int64(3), object(1)\n",
            "memory usage: 735.0+ KB\n"
          ],
          "name": "stdout"
        }
      ]
    },
    {
      "cell_type": "code",
      "metadata": {
        "id": "xrSdbkLOnjAb",
        "colab": {
          "base_uri": "https://localhost:8080/"
        },
        "outputId": "fbd8a855-89b8-4f0a-b3b7-a10d6745bfac"
      },
      "source": [
        "# No Duplicates available\n",
        "df.drop('UserId', axis=1).duplicated().sum()"
      ],
      "execution_count": null,
      "outputs": [
        {
          "output_type": "execute_result",
          "data": {
            "text/plain": [
              "0"
            ]
          },
          "metadata": {
            "tags": []
          },
          "execution_count": 14
        }
      ]
    },
    {
      "cell_type": "code",
      "metadata": {
        "id": "hVSo2jcnnjAm",
        "colab": {
          "base_uri": "https://localhost:8080/"
        },
        "outputId": "ec972264-3798-448e-a186-f9a29002c33b"
      },
      "source": [
        "# No Null Values\n",
        "df.isnull().sum()"
      ],
      "execution_count": null,
      "outputs": [
        {
          "output_type": "execute_result",
          "data": {
            "text/plain": [
              "UserId       0\n",
              "TweetId      0\n",
              "Tweet        0\n",
              "ADR_label    0\n",
              "dtype: int64"
            ]
          },
          "metadata": {
            "tags": []
          },
          "execution_count": 15
        }
      ]
    },
    {
      "cell_type": "code",
      "metadata": {
        "id": "bx0o2qh4e9Iu",
        "colab": {
          "base_uri": "https://localhost:8080/"
        },
        "outputId": "5e7040e6-5a51-444b-8763-195aad1f69b9"
      },
      "source": [
        "#ADR : 1 vs Non ADR : 0\n",
        "df.ADR_label.value_counts()"
      ],
      "execution_count": null,
      "outputs": [
        {
          "output_type": "execute_result",
          "data": {
            "text/plain": [
              "0    16694\n",
              "1     6822\n",
              "Name: ADR_label, dtype: int64"
            ]
          },
          "metadata": {
            "tags": []
          },
          "execution_count": 16
        }
      ]
    },
    {
      "cell_type": "markdown",
      "metadata": {
        "id": "ifxMom3OlTNB"
      },
      "source": [
        "### Let's Plot the ADR vs Non_ADR counts in our Dataset"
      ]
    },
    {
      "cell_type": "code",
      "metadata": {
        "id": "a436iewanjAw",
        "colab": {
          "base_uri": "https://localhost:8080/",
          "height": 555
        },
        "outputId": "97a65bc4-c2c4-44e5-f031-d1184be8c425"
      },
      "source": [
        "f,ax = plt.subplots(1,2,figsize=(16,8))\n",
        "\n",
        "colors = [\"SkyBlue\", \"Orange\"]\n",
        "labels = 'Non-ADR','ADR'\n",
        "plt.suptitle('Information on ADR vs NON-ADR labels')\n",
        "df['ADR_label'].value_counts().plot.pie(explode=[0,0.05], autopct='%1.2f%%', ax =ax[0], shadow = True,\n",
        "                                    colors = colors, labels = labels, fontsize =12, startangle=25)\n",
        "ax[0].set_ylabel('% of ADR vs Non-ADR')\n",
        "\n",
        "palette = [\"#64FE2E\", \"#FA5858\"]\n",
        "sns.countplot(x='ADR_label', data=df)\n",
        "ax[1].set_xticklabels(['Non-ADR','ADR'],rotation=0, rotation_mode=\"anchor\")\n",
        "plt.show()"
      ],
      "execution_count": null,
      "outputs": [
        {
          "output_type": "display_data",
          "data": {
            "image/png": "[encoded data removed]",
            "text/plain": [
              "<Figure size 1152x576 with 2 Axes>"
            ]
          },
          "metadata": {
            "tags": [],
            "needs_background": "light"
          }
        }
      ]
    },
    {
      "cell_type": "markdown",
      "metadata": {
        "id": "m8VZlbkQnjA7"
      },
      "source": [
        "**As we can see from the pie-plot, around 29% of our tweets fall into ADR Category, while 71% into Non-ADR category**<br>\n",
        "We will use this fact to Adjust our Model Weights while fine tuning the Model Parameters\n"
      ]
    },
    {
      "cell_type": "markdown",
      "metadata": {
        "id": "EBAz4gg5njA9"
      },
      "source": [
        "## Step 3) Preparing the Data for Modeling \n",
        "- **Splitting Our data in Training and Testing set**\n",
        "- **Seperating Labels from Predictors**\n",
        "- ** Feature Engineering on Predictor Columns**"
      ]
    },
    {
      "cell_type": "code",
      "metadata": {
        "id": "mI6iYc_LnjBC"
      },
      "source": [
        "# Importing the necessary modules\n",
        "from sklearn.feature_extraction.text import CountVectorizer\n",
        "from sklearn.model_selection import train_test_split\n",
        "\n",
        "# Seperating predictors from outcome label \n",
        "y = df['ADR_label']\n",
        "X = df.drop(['ADR_label'], axis =1)\n",
        "\n",
        "#Converting all Tweets to lower-case\n",
        "X['Tweet']=X['Tweet'].str.lower()\n",
        "\n",
        "# Create training and test sets\n",
        "X_train, X_test, y_train, y_test = train_test_split(\n",
        "                                             X, y, \n",
        "                                             test_size=0.30, \n",
        "                                             random_state=53)"
      ],
      "execution_count": null,
      "outputs": []
    },
    {
      "cell_type": "markdown",
      "metadata": {
        "id": "LygtxCfHmLgL"
      },
      "source": [
        "## Feature Engineering\n",
        "**In language processing, the vectors 'x' are derived from textual data, in order to reflect various linguistic properties of the text**<br>\n",
        "In this section, I have used pandas alongside scikit-learn to create a sparse text vectorizer that we can use to train and test any supervised model but before that let's understand lemmatization process."
      ]
    },
    {
      "cell_type": "markdown",
      "metadata": {
        "id": "9sIxaouJoQhO"
      },
      "source": [
        "## Text - Preprocessing\n",
        "We need to reduce inflectional forms of words in our Tweet such that we convert derivationally related forms of a word to a common base form. For instance:<br>\n",
        "car, cars, car's, cars' = car.<br>\n",
        "For this purpose, we have two methods, Stemming and Lemmatization.\n",
        "Let's understand the difference and than pick the appropraite method of our Text pre-processing.\n",
        "- **Stemming** algorithms work by cutting off the end or the beginning of the word, taking into account a list of common prefixes and suffixes that can be found in an inflected word. This indiscriminate cutting can be successful in some occasions, but not always, and that is why we affirm that this approach presents some limitations.\n",
        "- **Lemmatization**, on the other hand, takes into consideration the morphological analysis of the words. To do so, it is necessary to have detailed dictionaries which the algorithm can look through to link the form back to its lemma. <br><br>\n",
        "**As a conclusion, we can say developing a stemmer is far simpler than building a lemmatizer. In the latter, deep linguistics knowledge is required to create the dictionaries that allow the algorithm to look for the proper form of the word. Once this is done, the noise will be reduced and the results provided on the information retrieval process will be more accurate.**<br>\n",
        "So, we will proceed with lemmatization using WordNet corpus of NLTK"
      ]
    },
    {
      "cell_type": "code",
      "metadata": {
        "id": "aYx1MJRfmxCw",
        "colab": {
          "base_uri": "https://localhost:8080/"
        },
        "outputId": "f0b01fb9-7c37-450b-cb5d-263f7a45ea6e"
      },
      "source": [
        "nltk.download('wordnet')"
      ],
      "execution_count": null,
      "outputs": [
        {
          "output_type": "stream",
          "text": [
            "[nltk_data] Downloading package wordnet to /root/nltk_data...\n",
            "[nltk_data]   Package wordnet is already up-to-date!\n"
          ],
          "name": "stdout"
        },
        {
          "output_type": "execute_result",
          "data": {
            "text/plain": [
              "True"
            ]
          },
          "metadata": {
            "tags": []
          },
          "execution_count": 21
        }
      ]
    },
    {
      "cell_type": "code",
      "metadata": {
        "id": "TXE8i6AMoDIV"
      },
      "source": [
        "# Importing NLTK and initializing the Lemmatizer and tokenizer\n",
        "import nltk\n",
        "\n",
        "w_tokenizer = nltk.tokenize.WhitespaceTokenizer()\n",
        "lemmatizer = nltk.stem.WordNetLemmatizer()\n",
        "\n"
      ],
      "execution_count": null,
      "outputs": []
    },
    {
      "cell_type": "code",
      "metadata": {
        "id": "Wmu2Arm0rkjW"
      },
      "source": [
        "# function to lemmatize each row of Tweet column\n",
        "def lemmatize_text(text):\n",
        "  return ' '.join(lemmatizer.lemmatize(w) for w in w_tokenizer.tokenize(text))"
      ],
      "execution_count": null,
      "outputs": []
    },
    {
      "cell_type": "code",
      "metadata": {
        "id": "DciylcDbrZA3",
        "colab": {
          "base_uri": "https://localhost:8080/",
          "height": 204
        },
        "outputId": "5a014700-1279-4098-e0bc-c2c1a4dab6e8"
      },
      "source": [
        "X_train['Tweet_l'] = X_train.Tweet.apply(lemmatize_text)\n",
        "X_test['Tweet_l'] = X_test.Tweet.apply(lemmatize_text)\n",
        "X_test.head()"
      ],
      "execution_count": null,
      "outputs": [
        {
          "output_type": "execute_result",
          "data": {
            "text/html": [
              "<div>\n",
              "<style scoped>\n",
              "    .dataframe tbody tr th:only-of-type {\n",
              "        vertical-align: middle;\n",
              "    }\n",
              "\n",
              "    .dataframe tbody tr th {\n",
              "        vertical-align: top;\n",
              "    }\n",
              "\n",
              "    .dataframe thead th {\n",
              "        text-align: right;\n",
              "    }\n",
              "</style>\n",
              "<table border=\"1\" class=\"dataframe\">\n",
              "  <thead>\n",
              "    <tr style=\"text-align: right;\">\n",
              "      <th></th>\n",
              "      <th>UserId</th>\n",
              "      <th>TweetId</th>\n",
              "      <th>Tweet</th>\n",
              "      <th>Tweet_l</th>\n",
              "    </tr>\n",
              "  </thead>\n",
              "  <tbody>\n",
              "    <tr>\n",
              "      <th>17579</th>\n",
              "      <td>20234160</td>\n",
              "      <td>592898</td>\n",
              "      <td>although this patient had been exposed to seve...</td>\n",
              "      <td>although this patient had been exposed to seve...</td>\n",
              "    </tr>\n",
              "    <tr>\n",
              "      <th>5305</th>\n",
              "      <td>7428724</td>\n",
              "      <td>263401</td>\n",
              "      <td>four cases of oesophageal damage associated wi...</td>\n",
              "      <td>four case of oesophageal damage associated wit...</td>\n",
              "    </tr>\n",
              "    <tr>\n",
              "      <th>8355</th>\n",
              "      <td>1469187</td>\n",
              "      <td>609107</td>\n",
              "      <td>we report the displacement of a tunnelled intr...</td>\n",
              "      <td>we report the displacement of a tunnelled intr...</td>\n",
              "    </tr>\n",
              "    <tr>\n",
              "      <th>18545</th>\n",
              "      <td>623061</td>\n",
              "      <td>724009</td>\n",
              "      <td>this translocation determines a fusion gene, b...</td>\n",
              "      <td>this translocation determines a fusion gene, b...</td>\n",
              "    </tr>\n",
              "    <tr>\n",
              "      <th>10250</th>\n",
              "      <td>18795</td>\n",
              "      <td>844053</td>\n",
              "      <td>clinical and biochemical abnormalities disappe...</td>\n",
              "      <td>clinical and biochemical abnormality disappear...</td>\n",
              "    </tr>\n",
              "  </tbody>\n",
              "</table>\n",
              "</div>"
            ],
            "text/plain": [
              "         UserId  ...                                            Tweet_l\n",
              "17579  20234160  ...  although this patient had been exposed to seve...\n",
              "5305    7428724  ...  four case of oesophageal damage associated wit...\n",
              "8355    1469187  ...  we report the displacement of a tunnelled intr...\n",
              "18545    623061  ...  this translocation determines a fusion gene, b...\n",
              "10250     18795  ...  clinical and biochemical abnormality disappear...\n",
              "\n",
              "[5 rows x 4 columns]"
            ]
          },
          "metadata": {
            "tags": []
          },
          "execution_count": 23
        }
      ]
    },
    {
      "cell_type": "markdown",
      "metadata": {
        "id": "NSySOyuEmETh"
      },
      "source": [
        "#### Extracting Features from Tweet-Text using sci-kit learn to build Bag-of-Word Vectors.\n",
        "\n",
        "A bag-of-words is a representation of text that describes the occurrence of words within a document. It involves two things:\n",
        "\n",
        "- A vocabulary of known words.\n",
        "- A measure of the presence of known words.\n",
        "\n",
        "The CountVectorizer provides a simple way to both tokenize a collection of text documents and build a vocabulary of known words, but also to encode new documents using that vocabulary.<br>\n",
        "It also takes care of ignoring the punctuations and lowercasing each term.\n",
        "\n",
        "(Note: Document here represents Tweets)\n"
      ]
    },
    {
      "cell_type": "markdown",
      "metadata": {
        "id": "4fzKeS9FnTX2"
      },
      "source": [
        "We will use CountVectorizer to learn the vocabulary of a set of texts and then transform them into a dataframe that can be used for building models. I wanted to follow up on that with a few simple ways to make that dataframe more suitable for prediction.\n",
        "\n",
        "CountVectorizer has a few important parameters we should know.\n",
        "\n",
        "- stop_words: Since CountVectorizer just counts the occurrences of each word in its vocabulary, extremely common words like ‘the’, ‘and’, etc. will become very important features while they add little meaning to the text. Your model can often be improved if you don’t take those words into account. Stop words are just a list of words you don’t want to use as features. You can set the parameter stop_words=’english’ to use a built-in list. Alternatively you can set stop_words equal to some custom list. This parameter defaults to None.\n",
        "- ngram_range: An n-gram is just a string of n words in a row. E.g. the sentence ‘I am Groot’ contains the 2-grams ‘I am’ and ‘am Groot’. The sentence is itself a 3-gram. Set the parameter ngram_range=(a,b) where a is the minimum and b is the maximum size of ngrams you want to include in your features. The default ngram_range is (1,1).\n",
        "In a recent project where I usually find that including 2-grams as features boosts my model’s predictive power significantly. This makes intuitive sense; many job titles such as ‘data scientist’, ‘data engineer’, and ‘data analyst’ are 2 words long.\n",
        "- min_df, max_df: These are the minimum and maximum document frequencies words/n-grams must have to be used as features. If either of these parameters are set to integers, they will be used as bounds on the number of documents each feature must be in to be considered as a feature. If either is set to a float, that number will be interpreted as a frequency rather than a numerical limit. min_df defaults to 1 (int) and - max_df defaults to 1.0 (float).\n",
        "- max_features: This parameter is pretty self-explanatory. The CountVectorizer will choose the words/features that occur most frequently to be in its’ vocabulary and drop everything else."
      ]
    },
    {
      "cell_type": "code",
      "metadata": {
        "id": "v5k6lxebnjBL",
        "colab": {
          "base_uri": "https://localhost:8080/"
        },
        "outputId": "822a6775-128e-4468-b499-6a064690bf05"
      },
      "source": [
        "# Initialize a CountVectorizer object: count_vectorizer\n",
        "count_vectorizer = CountVectorizer(stop_words='english', ngram_range=(1,2))\n",
        "\n",
        "# fitting and Transform the training data using only the 'text' column values: count_train \n",
        "count_train = count_vectorizer.fit_transform(X_train.Tweet.values)\n",
        "\n",
        "# Transforming the test data using only the 'text' column values: count_test \n",
        "count_test = count_vectorizer.transform(X_test.Tweet.values)\n",
        "\n",
        "# Print the first 10 features of the count_vectorizer\n",
        "print(count_vectorizer.get_feature_names()[:10])"
      ],
      "execution_count": null,
      "outputs": [
        {
          "output_type": "stream",
          "text": [
            "['00', '00 12', '00 50', '00 91', '00 discontinued', '000', '000 000', '000 12', '000 200', '000 amylase']\n"
          ],
          "name": "stdout"
        }
      ]
    },
    {
      "cell_type": "markdown",
      "metadata": {
        "id": "mKn8-hnY1TCA"
      },
      "source": [
        "One issue with  countVectorizer is that some words will appear many times and their large counts will not be very meaningful in the encoded vectors."
      ]
    },
    {
      "cell_type": "markdown",
      "metadata": {
        "id": "nDPbWMsT1L0A"
      },
      "source": [
        "An alternative is to calculate word frequencies, and by far the most popular method is called TF-IDF. This is an acronym than stands for “Term Frequency – Inverse Document” Frequency which are the components of the resulting scores assigned to each word.\n",
        "\n",
        "- TF: Term Frequency, which measures how frequently a term occurs in a document. Since every document is different in length, it is possible that a term would appear much more times in long documents than shorter ones. Thus, the term frequency is often divided by the document length (aka. the total number of terms in the document) as a way of normalization: \n",
        "\n",
        "TF(t) = (Number of times term t appears in a document) / (Total number of terms in the document).\n",
        "\n",
        "- IDF: Inverse Document Frequency, which measures how important a term is. While computing TF, all terms are considered equally important. However it is known that certain terms, such as \"is\", \"of\", and \"that\", may appear a lot of times but have little importance. Thus we need to weigh down the frequent terms while scale up the rare ones, by computing the following: \n",
        "\n",
        "IDF(t) = log_e(Total number of documents / Number of documents with term t in it).<br>\n",
        "<br>\n",
        "**w(i) = TF(i) * IDF(i)**\n",
        "\n",
        "**This downscales words that appear a lot across documents.**\n"
      ]
    },
    {
      "cell_type": "markdown",
      "metadata": {
        "id": "lPVj0M5BnjBX"
      },
      "source": [
        "Similar to the sparse CountVectorizer created in the previous section, we'll work on creating tf-idf vectors for Tweet-Texts. We'll set up a TfidfVectorizer"
      ]
    },
    {
      "cell_type": "code",
      "metadata": {
        "id": "n1OOt51cnjBZ",
        "colab": {
          "base_uri": "https://localhost:8080/"
        },
        "outputId": "aff4669b-576b-4bad-a52f-4121e6bede94"
      },
      "source": [
        "# # Importing TfidfVectorizer\n",
        "from sklearn.feature_extraction.text import TfidfVectorizer\n",
        "\n",
        "# # Initializing a TfidfVectorizer object: tfidf_vectorizer\n",
        "tfidf_vectorizer = TfidfVectorizer(stop_words='english',max_df=0.7)\n",
        "\n",
        "# # Transforming the training data: tfidf_train \n",
        "tfidf_train = tfidf_vectorizer.fit_transform(X_train.Tweet.values)\n",
        "\n",
        "# # Transforming the test data: tfidf_test \n",
        "tfidf_test = tfidf_vectorizer.transform(X_test.Tweet.values)\n",
        "\n",
        "# # Printing the first 10 features\n",
        "print(tfidf_vectorizer.get_feature_names()[:10])\n",
        "\n",
        "# # Printing the first 5 vectors of the tfidf training data\n",
        "print(tfidf_train.A[:5])"
      ],
      "execution_count": null,
      "outputs": [
        {
          "output_type": "stream",
          "text": [
            "['00', '000', '00001', '0001', '00025', '001', '002', '004', '005', '008']\n",
            "[[0. 0. 0. ... 0. 0. 0.]\n",
            " [0. 0. 0. ... 0. 0. 0.]\n",
            " [0. 0. 0. ... 0. 0. 0.]\n",
            " [0. 0. 0. ... 0. 0. 0.]\n",
            " [0. 0. 0. ... 0. 0. 0.]]\n"
          ],
          "name": "stdout"
        }
      ]
    },
    {
      "cell_type": "code",
      "metadata": {
        "id": "S5_Gi4EinjCR"
      },
      "source": [
        "# # Creating the CountVectorizer DataFrame: count_df\n",
        "count_df = pd.DataFrame(count_train.A, columns=count_vectorizer.get_feature_names())\n",
        "\n",
        "# # Creating the TfidfVectorizer DataFrame: tfidf_df\n",
        "tfidf_df = pd.DataFrame(tfidf_train.A, columns=tfidf_vectorizer.get_feature_names())\n",
        "\n",
        "# # Printing the head of count_df\n",
        "print(count_df.head())\n",
        "\n",
        "# # Printing the head of tfidf_df\n",
        "print(tfidf_df.head())\n"
      ],
      "execution_count": null,
      "outputs": []
    },
    {
      "cell_type": "markdown",
      "metadata": {
        "id": "LLC6UYsMnjCd"
      },
      "source": [
        "## Step 4) Modeling - process: picking the correct class of Algorithm\n",
        "### Let's Create A baseline model for Benchmarking: Naive Bayes with scikit-learn\n",
        "We are going to use Naive Bayes Class of model to build our Base/Vanilla Model since it is the most reasonable model to use when training a new supervised model using text vector data due to it's basis in Probability Theory"
      ]
    },
    {
      "cell_type": "code",
      "metadata": {
        "id": "r9EMmKA7njCh"
      },
      "source": [
        "# Importing the necessary modules\n",
        "from sklearn.naive_bayes import MultinomialNB\n",
        "from sklearn import metrics\n",
        "from sklearn.metrics import roc_auc_score\n",
        "\n",
        "# Instantiating a Multinomial Naive Bayes classifier: nb_classifier\n",
        "nb_classifier = MultinomialNB()\n",
        "\n",
        "# Fitting the classifier to the training data\n",
        "nb_classifier.fit(count_train, y_train)\n",
        "\n",
        "# Creating the predicted tags: pred\n",
        "pred = nb_classifier.predict(count_test)\n",
        "\n",
        "# Calculating the accuracy score: score\n",
        "score =metrics.accuracy_score(y_test, pred)\n",
        "print(score)\n",
        "\n",
        "# Calculating the confusion matrix: cm\n",
        "cm = metrics.confusion_matrix(y_test,pred)\n",
        "print(cm)"
      ],
      "execution_count": null,
      "outputs": []
    },
    {
      "cell_type": "code",
      "metadata": {
        "id": "sVUi2OCznjCt"
      },
      "source": [
        "# # Creating a Multinomial Naive Bayes classifier: nb_classifier\n",
        "# nb_classifier = MultinomialNB()\n",
        "\n",
        "# # Fitting the classifier to the training data\n",
        "# nb_classifier.fit(tfidf_train, y_train)\n",
        "\n",
        "# # Creating the predicted tags: pred\n",
        "# pred = nb_classifier.predict(tfidf_test)\n",
        "\n",
        "# # Calculating the accuracy score: score\n",
        "# score = metrics.accuracy_score(y_test, pred)\n",
        "# print(score)\n",
        "\n",
        "# # Calculating the confusion matrix: cm\n",
        "# cm = metrics.confusion_matrix(y_test, pred )\n",
        "# print(cm)"
      ],
      "execution_count": null,
      "outputs": []
    },
    {
      "cell_type": "code",
      "metadata": {
        "id": "fDiPbUxFnjC7"
      },
      "source": [
        "# Get the class labels: class_labels\n",
        "class_labels = nb_classifier.classes_\n",
        "\n",
        "# Extract the features: feature_names\n",
        "feature_names = tfidf_vectorizer.get_feature_names()\n",
        "\n",
        "# Zip the feature names together with the coefficient array and sort by weights: feat_with_weights\n",
        "feat_with_weights = sorted(zip(nb_classifier.coef_[0],feature_names))\n",
        "\n",
        "# Print the first class label and the top 20 feat_with_weights entries\n",
        "print(class_labels[0], feat_with_weights[:20])\n",
        "print('\\n')\n",
        "# Print the second class label and the bottom 20 feat_with_weights entries\n",
        "print(class_labels[1], feat_with_weights[-20:])"
      ],
      "execution_count": null,
      "outputs": []
    },
    {
      "cell_type": "markdown",
      "metadata": {
        "id": "xZ61eZQY2jL5"
      },
      "source": [
        "**For Modeling Our Dataset, we will go ahead with CountVectorizer Features, since the words that appear many time in our Tweet, for example `mg` are important for prediction and we don't want them to be DownScaled**<br>\n",
        "This is Evident from the accuracy score of our prediction on Test Data"
      ]
    },
    {
      "cell_type": "markdown",
      "metadata": {
        "id": "yoF9I3DnnjDH"
      },
      "source": [
        "### Let's Try Logistic Regression Classifier on Count Vectors"
      ]
    },
    {
      "cell_type": "code",
      "metadata": {
        "id": "uZbAK8-InjDM",
        "colab": {
          "base_uri": "https://localhost:8080/",
          "height": 34
        },
        "outputId": "b7ffc42c-574e-4c61-f389-056f9a71599e"
      },
      "source": [
        "from sklearn.metrics import accuracy_score\n",
        "from sklearn.linear_model import LogisticRegression\n",
        "baselog_model = LogisticRegression()\n",
        "baselog_model.fit(count_train,y_train)\n",
        "y_pred = baselog_model.predict(count_test)\n",
        "print(accuracy_score(y_pred,y_test))"
      ],
      "execution_count": null,
      "outputs": [
        {
          "output_type": "stream",
          "text": [
            "0.9020552799433026\n"
          ],
          "name": "stdout"
        }
      ]
    },
    {
      "cell_type": "markdown",
      "metadata": {
        "id": "ftv4XZiLvx_6"
      },
      "source": [
        "**As we can see logistics Regression clear outperformed NBClassifier, let's try some more classes of algos before creating the final Model and tuning it **"
      ]
    },
    {
      "cell_type": "markdown",
      "metadata": {
        "id": "LcAJVGfSnjDi"
      },
      "source": [
        "### Using advanced Classification Algos for prediction and Comparing their Accuracy"
      ]
    },
    {
      "cell_type": "code",
      "metadata": {
        "id": "hXi253rjnjDp"
      },
      "source": [
        "from sklearn.linear_model import LogisticRegression\n",
        "from sklearn.svm import SVC\n",
        "from sklearn.neighbors import KNeighborsClassifier\n",
        "from sklearn import tree\n",
        "from sklearn.neural_network import MLPClassifier\n",
        "\n",
        "from sklearn.ensemble import GradientBoostingClassifier\n",
        "from sklearn.gaussian_process.kernels import RBF\n",
        "from sklearn.ensemble import RandomForestClassifier\n",
        "from sklearn.naive_bayes import GaussianNB\n"
      ],
      "execution_count": null,
      "outputs": []
    },
    {
      "cell_type": "code",
      "metadata": {
        "id": "TDpdoB-3njD3"
      },
      "source": [
        "# dict_of_algos={'LR':LogisticRegression(),'svc':SVC(),'KNC':KNeighborsClassifier(),\n",
        "#                'DT':tree.DecisionTreeClassifier(),'MLPc':MLPClassifier(),\n",
        "#                'GRBC':GradientBoostingClassifier(),'RFC':RandomForestClassifier()}\n",
        "# def accuracy_of_algos(dictionary):\n",
        "#     df_of_accuracy = pd.DataFrame(columns=['classifier','test_score'])\n",
        "#     count=0\n",
        "#     for k,v in dictionary.items():\n",
        "#         v.fit(count_train,y_train)\n",
        "#         y_pred = v.predict(count_test)\n",
        "#         df_of_accuracy.loc[count,'classifier']=k\n",
        "#         df_of_accuracy.loc[count,'test_score'] = accuracy_score(y_test,y_pred)\n",
        "#         count+=1\n",
        "#     return df_of_accuracy\n",
        "# print(accuracy_of_algos(dict_of_algos))    "
      ],
      "execution_count": null,
      "outputs": []
    },
    {
      "cell_type": "markdown",
      "metadata": {
        "id": "8IXNzDCY_d5Y"
      },
      "source": [
        "Considering Training accuracy, Training-Time and Testing accuracy of each Model, to compare models"
      ]
    },
    {
      "cell_type": "code",
      "metadata": {
        "id": "JJVDBmvDnjER"
      },
      "source": [
        "# Time for Classification Models\n",
        "import time\n",
        "\n",
        "\n",
        "from sklearn.preprocessing import StandardScaler, LabelEncoder\n",
        " \n",
        "from sklearn.linear_model import LogisticRegression\n",
        "from sklearn.svm import SVC\n",
        "from sklearn.neighbors import KNeighborsClassifier\n",
        "from sklearn import tree\n",
        "from sklearn.neural_network import MLPClassifier\n",
        "from sklearn.neighbors import KNeighborsClassifier\n",
        "from sklearn.ensemble import GradientBoostingClassifier\n",
        "from sklearn.gaussian_process.kernels import RBF\n",
        "from sklearn.ensemble import RandomForestClassifier\n",
        "from sklearn.naive_bayes import MultinomialNB\n",
        "\n",
        "\n",
        "dict_classifiers = {\n",
        "    \"Logistic Regression\": LogisticRegression(),\n",
        "    \"Nearest Neighbors\": KNeighborsClassifier(),\n",
        "    \"Linear SVM\": SVC(),\n",
        "    \"Gradient Boosting Classifier\": GradientBoostingClassifier(),\n",
        "    \"Decision Tree\": tree.DecisionTreeClassifier(),\n",
        "    \"Random Forest\": RandomForestClassifier(n_estimators=18),\n",
        "    'NB_Classifier':MultinomialNB()\n",
        "\n",
        "}"
      ],
      "execution_count": null,
      "outputs": []
    },
    {
      "cell_type": "code",
      "metadata": {
        "id": "93OnG_EFnjEb"
      },
      "source": [
        "\n",
        "no_classifiers = len(dict_classifiers.keys())\n",
        "\n",
        "def batch_classify(X_train, Y_train,X_test, y_test,verbose = True):\n",
        "    df_results = pd.DataFrame(data=np.zeros(shape=(no_classifiers,4)), columns = ['classifier', 'train_score', 'training_time','test_score'])\n",
        "    count = 0\n",
        "    for key, classifier in dict_classifiers.items():\n",
        "        t_start = time.clock()\n",
        "        classifier.fit(X_train, Y_train)\n",
        "        t_end = time.clock()\n",
        "        t_diff = t_end - t_start\n",
        "        train_score = classifier.score(X_train, Y_train)\n",
        "        \n",
        "        y_pred=classifier.predict(X_test)\n",
        "        test_score=accuracy_score(y_test,y_pred)\n",
        "      \n",
        "        \n",
        "        df_results.loc[count,'classifier'] = key\n",
        "        df_results.loc[count,'train_score'] = train_score\n",
        "        df_results.loc[count,'training_time'] = t_diff\n",
        "        df_results.loc[count,'test_score']=test_score\n",
        "\n",
        "        if verbose:\n",
        "            print(\"trained {c} in {f:.2f} s\".format(c=key, f=t_diff))\n",
        "        count+=1\n",
        "    return df_results"
      ],
      "execution_count": null,
      "outputs": []
    },
    {
      "cell_type": "code",
      "metadata": {
        "id": "FfM9xr93njEj",
        "colab": {
          "base_uri": "https://localhost:8080/",
          "height": 272
        },
        "outputId": "08cc0355-a058-4c79-a5aa-77552ef0d90b"
      },
      "source": [
        "df_results = batch_classify(count_train, y_train,count_test, y_test)\n",
        "print(df_results.sort_values(by='train_score', ascending=False))"
      ],
      "execution_count": null,
      "outputs": [
        {
          "output_type": "stream",
          "text": [
            "trained Logistic Regression in 0.49 s\n",
            "trained Nearest Neighbors in 0.00 s\n",
            "trained Linear SVM in 30.94 s\n",
            "trained Gradient Boosting Classifier in 13.39 s\n",
            "trained Decision Tree in 13.93 s\n",
            "trained Random Forest in 8.11 s\n",
            "trained NB_Classifier in 0.02 s\n",
            "                     classifier  train_score  training_time  test_score\n",
            "4                 Decision Tree     1.000000      13.933179    0.859816\n",
            "0           Logistic Regression     0.998603       0.488675    0.902055\n",
            "5                 Random Forest     0.994897       8.112080    0.876967\n",
            "6                 NB_Classifier     0.974181       0.015810    0.875266\n",
            "3  Gradient Boosting Classifier     0.815686      13.388350    0.802835\n",
            "1             Nearest Neighbors     0.809246       0.003267    0.768391\n",
            "2                    Linear SVM     0.710892      30.938137    0.707583\n"
          ],
          "name": "stdout"
        }
      ]
    },
    {
      "cell_type": "markdown",
      "metadata": {
        "id": "vxR5KE05njEu"
      },
      "source": [
        "### Avoiding Overfitting:\n",
        "Brief Description of Overfitting: <br>\n",
        "This is an error in the modeling algorithm that takes into consideration random noise in the fitting process rather than the pattern itself. You can see that this occurs when the model gets an good score in the training set but when we use the test set (Unknown data for the model) we get bad score. This is likely to happen because of overfitting of the data (taking into consideration random noise in our pattern). What we want our model to do is to take the overall pattern of the data in order to correctly classify whether a Tweets is ADR or Not. In the examples above, it is most likely that the Decision Tree Classifier and Random Forest classifiers are overfitting since they both give us nearly perfect scores (100% and 99%) accuracy scores. <br><br>\n",
        "\n",
        "\n",
        "How can we avoid Overfitting?<br>\n",
        "The best alternative to avoid overfitting is to use cross validation. Taking the training test and splitting it. For instance, if we split it by 3, 2/3 of the data or 66% will be used for training and 1/3 33% will be used or testing and we will do the testing process three times. This algorithm will iterate through all the training and test sets and the main purpose of this is to grab the overall pattern of the data."
      ]
    },
    {
      "cell_type": "code",
      "metadata": {
        "id": "sjPd6UvrnjEw"
      },
      "source": [
        "# Use Cross-validation.\n",
        "from sklearn.model_selection import cross_val_score\n",
        "\n",
        "# Logistic Regression\n",
        "log_reg = LogisticRegression()\n",
        "log_scores = cross_val_score(log_reg, count_train, y_train, cv=3)\n",
        "log_reg_mean = log_scores.mean()\n",
        "\n",
        "# KNearestNeighbors\n",
        "knn_clf = KNeighborsClassifier()\n",
        "knn_scores = cross_val_score(knn_clf, count_train, y_train, cv=3)\n",
        "knn_mean = knn_scores.mean()\n",
        "\n",
        "# Decision Tree\n",
        "tree_clf = tree.DecisionTreeClassifier()\n",
        "tree_scores = cross_val_score(tree_clf, count_train, y_train, cv=3)\n",
        "tree_mean = tree_scores.mean()\n",
        "\n",
        "# Gradient Boosting Classifier\n",
        "grad_clf = GradientBoostingClassifier()\n",
        "grad_scores = cross_val_score(grad_clf, count_train, y_train, cv=3)\n",
        "grad_mean = grad_scores.mean()\n",
        "\n",
        "# Random Forest Classifier\n",
        "rand_clf = RandomForestClassifier(n_estimators=18)\n",
        "rand_scores = cross_val_score(rand_clf, count_train, y_train, cv=3)\n",
        "rand_mean = rand_scores.mean()\n",
        "\n",
        "\n",
        "# Naives Bayes\n",
        "nav_clf = MultinomialNB()\n",
        "nav_scores = cross_val_score(nav_clf, count_train, y_train, cv=3)\n",
        "nav_mean = nav_scores.mean()\n",
        "\n",
        "# Create a Dataframe with the results.\n",
        "d = {'Classifiers': ['Logistic Reg.', 'KNN', 'Dec Tree', 'Grad B CLF', 'Rand FC', 'Naives Bayes'], \n",
        "    'Crossval Mean Scores': [log_reg_mean, knn_mean, tree_mean, grad_mean, rand_mean, nav_mean]}\n",
        "\n",
        "result_df = pd.DataFrame(data=d)"
      ],
      "execution_count": null,
      "outputs": []
    },
    {
      "cell_type": "code",
      "metadata": {
        "id": "Ucjy8u65njE6",
        "colab": {
          "base_uri": "https://localhost:8080/",
          "height": 235
        },
        "outputId": "29671c99-191f-484c-cddb-af2deffc03c3"
      },
      "source": [
        "# All our models perform well but I will go with GradientBoosting.\n",
        "result_df = result_df.sort_values(by=['Crossval Mean Scores'], ascending=False)\n",
        "result_df"
      ],
      "execution_count": null,
      "outputs": [
        {
          "output_type": "execute_result",
          "data": {
            "text/html": [
              "<div>\n",
              "<style scoped>\n",
              "    .dataframe tbody tr th:only-of-type {\n",
              "        vertical-align: middle;\n",
              "    }\n",
              "\n",
              "    .dataframe tbody tr th {\n",
              "        vertical-align: top;\n",
              "    }\n",
              "\n",
              "    .dataframe thead th {\n",
              "        text-align: right;\n",
              "    }\n",
              "</style>\n",
              "<table border=\"1\" class=\"dataframe\">\n",
              "  <thead>\n",
              "    <tr style=\"text-align: right;\">\n",
              "      <th></th>\n",
              "      <th>Classifiers</th>\n",
              "      <th>Crossval Mean Scores</th>\n",
              "    </tr>\n",
              "  </thead>\n",
              "  <tbody>\n",
              "    <tr>\n",
              "      <th>0</th>\n",
              "      <td>Logistic Reg.</td>\n",
              "      <td>0.883726</td>\n",
              "    </tr>\n",
              "    <tr>\n",
              "      <th>4</th>\n",
              "      <td>Rand FC</td>\n",
              "      <td>0.848613</td>\n",
              "    </tr>\n",
              "    <tr>\n",
              "      <th>5</th>\n",
              "      <td>Naives Bayes</td>\n",
              "      <td>0.836159</td>\n",
              "    </tr>\n",
              "    <tr>\n",
              "      <th>2</th>\n",
              "      <td>Dec Tree</td>\n",
              "      <td>0.835552</td>\n",
              "    </tr>\n",
              "    <tr>\n",
              "      <th>3</th>\n",
              "      <td>Grad B CLF</td>\n",
              "      <td>0.803293</td>\n",
              "    </tr>\n",
              "    <tr>\n",
              "      <th>1</th>\n",
              "      <td>KNN</td>\n",
              "      <td>0.749651</td>\n",
              "    </tr>\n",
              "  </tbody>\n",
              "</table>\n",
              "</div>"
            ],
            "text/plain": [
              "     Classifiers  Crossval Mean Scores\n",
              "0  Logistic Reg.              0.883726\n",
              "4        Rand FC              0.848613\n",
              "5   Naives Bayes              0.836159\n",
              "2       Dec Tree              0.835552\n",
              "3     Grad B CLF              0.803293\n",
              "1            KNN              0.749651"
            ]
          },
          "metadata": {
            "tags": []
          },
          "execution_count": 25
        }
      ]
    },
    {
      "cell_type": "markdown",
      "metadata": {
        "id": "yfhUH0NExL3H"
      },
      "source": [
        "### **As we can see Logistic Regression Clearly outperformed all other Class of Alogorithms, So we will proceed with Logistics Regression for our Final Model**"
      ]
    },
    {
      "cell_type": "markdown",
      "metadata": {
        "id": "kfBMoh4lnjFP"
      },
      "source": [
        "\n",
        "## Step 5) Final Model using Logistic Regression Algorithm"
      ]
    },
    {
      "cell_type": "code",
      "metadata": {
        "id": "qAe4UvcznjFR",
        "colab": {
          "base_uri": "https://localhost:8080/",
          "height": 85
        },
        "outputId": "3bd05c04-f56f-473a-ad9f-d60f8f3a2308"
      },
      "source": [
        "from sklearn.metrics import accuracy_score\n",
        "\n",
        "logreg_clf = LogisticRegression()\n",
        "logreg_clf.fit(count_train, y_train)"
      ],
      "execution_count": null,
      "outputs": [
        {
          "output_type": "execute_result",
          "data": {
            "text/plain": [
              "LogisticRegression(C=1.0, class_weight=None, dual=False, fit_intercept=True,\n",
              "          intercept_scaling=1, max_iter=100, multi_class='warn',\n",
              "          n_jobs=None, penalty='l2', random_state=None, solver='warn',\n",
              "          tol=0.0001, verbose=0, warm_start=False)"
            ]
          },
          "metadata": {
            "tags": []
          },
          "execution_count": 26
        }
      ]
    },
    {
      "cell_type": "code",
      "metadata": {
        "id": "jeiNTsXxnjFe",
        "colab": {
          "base_uri": "https://localhost:8080/",
          "height": 34
        },
        "outputId": "4c67f63c-d050-4a2a-d8fb-fadca51c0b8f"
      },
      "source": [
        "y_pred=logreg_clf.predict(count_test)\n",
        "print (\"Logistics Regression Classifier Train accuracy is %2.2f\" % accuracy_score(y_test, y_pred))"
      ],
      "execution_count": null,
      "outputs": [
        {
          "output_type": "stream",
          "text": [
            "Logistics Regression Classifier Train accuracy is 0.90\n"
          ],
          "name": "stdout"
        }
      ]
    },
    {
      "cell_type": "markdown",
      "metadata": {
        "id": "qNjkTXIEnjFq"
      },
      "source": [
        "### So we are able to predict values in test Data with `90.0%` Accuracy on count Vectors"
      ]
    },
    {
      "cell_type": "markdown",
      "metadata": {
        "id": "DvvsVgcbm6vc"
      },
      "source": [
        "### Let's Hypertune the model using GridSearchCV intensively with a 3 fold cross validation strategy.\n",
        "-  penalty: Used to specify the norm used in the penalization\n",
        "- class_weight : Weights associated with classes in the form {class_label: weight}\n",
        "This parameter quite important in case of imbalanced dataset.\n",
        "- n_jobs : int or None, optional (default=None)\n",
        "Number of CPU cores used when parallelizing over classes.\n",
        "- C : Inverse of regularization strength; must be a positive float.\n"
      ]
    },
    {
      "cell_type": "code",
      "metadata": {
        "id": "wnEy-852bcle"
      },
      "source": [
        "param_test = {\n",
        "   'penalty':['l1','l2'],\n",
        "   'class_weight': ['balanced',{0:0.7,1:0.3},None],\n",
        "   'n_jobs' : [-1],\n",
        "   'C' : [24,25,26],\n",
        "   'tol':[0.04,0.05,0.06],\n",
        "   'solver':['liblinear','warn']\n",
        "}"
      ],
      "execution_count": null,
      "outputs": []
    },
    {
      "cell_type": "code",
      "metadata": {
        "id": "3adPPSaXdJrT"
      },
      "source": [
        "from sklearn.model_selection import GridSearchCV\n",
        "gsearch = GridSearchCV(estimator = LogisticRegression(random_state=42), param_grid = param_test, scoring='accuracy',n_jobs=-1,iid=False, cv=3)\n"
      ],
      "execution_count": null,
      "outputs": []
    },
    {
      "cell_type": "code",
      "metadata": {
        "id": "7iQ0K__nde8X",
        "colab": {
          "base_uri": "https://localhost:8080/",
          "height": 190
        },
        "outputId": "c4e8145f-4646-4a9a-eb98-264cabbdf32b"
      },
      "source": [
        "gsearch.fit(count_train,y_train)"
      ],
      "execution_count": null,
      "outputs": [
        {
          "output_type": "execute_result",
          "data": {
            "text/plain": [
              "GridSearchCV(cv=3, error_score='raise-deprecating',\n",
              "       estimator=LogisticRegression(C=1.0, class_weight=None, dual=False, fit_intercept=True,\n",
              "          intercept_scaling=1, max_iter=100, multi_class='warn',\n",
              "          n_jobs=None, penalty='l2', random_state=42, solver='warn',\n",
              "          tol=0.0001, verbose=0, warm_start=False),\n",
              "       fit_params=None, iid=False, n_jobs=-1,\n",
              "       param_grid={'penalty': ['l1', 'l2'], 'class_weight': ['balanced', {0: 0.7, 1: 0.3}, None], 'n_jobs': [-1], 'C': [24, 25, 26], 'tol': [0.04, 0.05, 0.06], 'solver': ['liblinear', 'warn']},\n",
              "       pre_dispatch='2*n_jobs', refit=True, return_train_score='warn',\n",
              "       scoring='accuracy', verbose=0)"
            ]
          },
          "metadata": {
            "tags": []
          },
          "execution_count": 125
        }
      ]
    },
    {
      "cell_type": "code",
      "metadata": {
        "id": "AvBqOSygeLhc",
        "colab": {
          "base_uri": "https://localhost:8080/",
          "height": 51
        },
        "outputId": "d4138b3d-ab99-421e-8cbf-1561d372f8cf"
      },
      "source": [
        "print(gsearch.best_params_)\n",
        "print(gsearch.best_score_)"
      ],
      "execution_count": null,
      "outputs": [
        {
          "output_type": "stream",
          "text": [
            "{'C': 25, 'class_weight': 'balanced', 'n_jobs': -1, 'penalty': 'l2', 'solver': 'liblinear', 'tol': 0.04}\n",
            "0.886763124615154\n"
          ],
          "name": "stdout"
        }
      ]
    },
    {
      "cell_type": "code",
      "metadata": {
        "id": "LJo_7bader_3"
      },
      "source": [
        ""
      ],
      "execution_count": null,
      "outputs": []
    },
    {
      "cell_type": "markdown",
      "metadata": {
        "id": "vvat9c-LnCda"
      },
      "source": [
        "#### Building our final model using Parameters returned by GridSearchCV"
      ]
    },
    {
      "cell_type": "code",
      "metadata": {
        "id": "KLZ8uYm5iUso",
        "colab": {
          "base_uri": "https://localhost:8080/",
          "height": 34
        },
        "outputId": "f92f8c74-b822-4db5-937e-8f7b3128b9ba"
      },
      "source": [
        "logreg_clf=LogisticRegression(**gsearch.best_params_, random_state=42)\n",
        "logreg_clf.fit(count_train,y_train)\n",
        "y_pred = logreg_clf.predict(count_train)\n",
        "accuracy_score(y_train,y_pred)"
      ],
      "execution_count": null,
      "outputs": [
        {
          "output_type": "execute_result",
          "data": {
            "text/plain": [
              "1.0"
            ]
          },
          "metadata": {
            "tags": []
          },
          "execution_count": 127
        }
      ]
    },
    {
      "cell_type": "code",
      "metadata": {
        "id": "ij2whBA7jDbg",
        "colab": {
          "base_uri": "https://localhost:8080/",
          "height": 170
        },
        "outputId": "5d7a0c94-0752-47bd-e636-369b89b04f4e"
      },
      "source": [
        "from sklearn.metrics import classification_report\n",
        "print(classification_report(y_train,y_pred))"
      ],
      "execution_count": null,
      "outputs": [
        {
          "output_type": "stream",
          "text": [
            "              precision    recall  f1-score   support\n",
            "\n",
            "           0       1.00      1.00      1.00     11702\n",
            "           1       1.00      1.00      1.00      4759\n",
            "\n",
            "   micro avg       1.00      1.00      1.00     16461\n",
            "   macro avg       1.00      1.00      1.00     16461\n",
            "weighted avg       1.00      1.00      1.00     16461\n",
            "\n"
          ],
          "name": "stdout"
        }
      ]
    },
    {
      "cell_type": "markdown",
      "metadata": {
        "id": "HtdKOjP6nCXO"
      },
      "source": [
        "### Using Model to predict on Test Data"
      ]
    },
    {
      "cell_type": "code",
      "metadata": {
        "id": "TbLbiB7BmQqY",
        "colab": {
          "base_uri": "https://localhost:8080/",
          "height": 34
        },
        "outputId": "d867ddac-9aae-4dda-986b-029a4e639b31"
      },
      "source": [
        "y_pred = logreg_clf.predict(count_test)\n",
        "y_proba = logreg_clf.predict_proba(count_test)[:,1]\n",
        "print(accuracy_score(y_test,y_pred))"
      ],
      "execution_count": null,
      "outputs": [
        {
          "output_type": "stream",
          "text": [
            "0.9019135364989369\n"
          ],
          "name": "stdout"
        }
      ]
    },
    {
      "cell_type": "code",
      "metadata": {
        "id": "NzYlYZQBqLu6"
      },
      "source": [
        "#Creating Dataframe of TweetID,Actual labels, Predicted Labels and predicted probability\n",
        "X_test_df = pd.DataFrame({'TweetID':X_test.TweetId.values,'Actual_ADR_label':y_test.values,\n",
        "                          'Predicted_ADR_label':y_pred.reshape(-1), 'predict_probability':y_proba.reshape(-1)})"
      ],
      "execution_count": null,
      "outputs": []
    },
    {
      "cell_type": "code",
      "metadata": {
        "id": "ntgS6jInq1Ap",
        "colab": {
          "base_uri": "https://localhost:8080/",
          "height": 204
        },
        "outputId": "b5ba69ba-1f54-4af4-8f8a-6b5a641a21f6"
      },
      "source": [
        "X_test_df.head()"
      ],
      "execution_count": null,
      "outputs": [
        {
          "output_type": "execute_result",
          "data": {
            "text/html": [
              "<div>\n",
              "<style scoped>\n",
              "    .dataframe tbody tr th:only-of-type {\n",
              "        vertical-align: middle;\n",
              "    }\n",
              "\n",
              "    .dataframe tbody tr th {\n",
              "        vertical-align: top;\n",
              "    }\n",
              "\n",
              "    .dataframe thead th {\n",
              "        text-align: right;\n",
              "    }\n",
              "</style>\n",
              "<table border=\"1\" class=\"dataframe\">\n",
              "  <thead>\n",
              "    <tr style=\"text-align: right;\">\n",
              "      <th></th>\n",
              "      <th>TweetID</th>\n",
              "      <th>Actual_ADR_label</th>\n",
              "      <th>Predicted_ADR_label</th>\n",
              "      <th>predict_probability</th>\n",
              "    </tr>\n",
              "  </thead>\n",
              "  <tbody>\n",
              "    <tr>\n",
              "      <th>0</th>\n",
              "      <td>592898</td>\n",
              "      <td>0</td>\n",
              "      <td>0</td>\n",
              "      <td>0.007202</td>\n",
              "    </tr>\n",
              "    <tr>\n",
              "      <th>1</th>\n",
              "      <td>263401</td>\n",
              "      <td>1</td>\n",
              "      <td>1</td>\n",
              "      <td>0.792614</td>\n",
              "    </tr>\n",
              "    <tr>\n",
              "      <th>2</th>\n",
              "      <td>609107</td>\n",
              "      <td>0</td>\n",
              "      <td>0</td>\n",
              "      <td>0.226630</td>\n",
              "    </tr>\n",
              "    <tr>\n",
              "      <th>3</th>\n",
              "      <td>724009</td>\n",
              "      <td>0</td>\n",
              "      <td>0</td>\n",
              "      <td>0.022986</td>\n",
              "    </tr>\n",
              "    <tr>\n",
              "      <th>4</th>\n",
              "      <td>844053</td>\n",
              "      <td>0</td>\n",
              "      <td>0</td>\n",
              "      <td>0.306027</td>\n",
              "    </tr>\n",
              "  </tbody>\n",
              "</table>\n",
              "</div>"
            ],
            "text/plain": [
              "   TweetID  Actual_ADR_label  Predicted_ADR_label  predict_probability\n",
              "0   592898                 0                    0             0.007202\n",
              "1   263401                 1                    1             0.792614\n",
              "2   609107                 0                    0             0.226630\n",
              "3   724009                 0                    0             0.022986\n",
              "4   844053                 0                    0             0.306027"
            ]
          },
          "metadata": {
            "tags": []
          },
          "execution_count": 131
        }
      ]
    },
    {
      "cell_type": "markdown",
      "metadata": {
        "id": "uaEpHbZYmbl3"
      },
      "source": [
        "## Evaluation of Model\n",
        "Our Main criteria for Model Evaluation is Accuracy but in this section we will see some other very important Model Evaluation metrics as well and use them to evaluate the perfomance of Our Model.<br>\n",
        "Let's start with Confusion Matrix:"
      ]
    },
    {
      "cell_type": "markdown",
      "metadata": {
        "id": "m5anv1TXnjF1"
      },
      "source": [
        "### Insights of a Confusion Matrix: \n",
        "The main purpose of a confusion matrix is to see how our model is performing when it comes to classifying Tweets that are likely to be ADR. We will see in the confusion matrix, four terms:<br>\n",
        "The True Positives, False Positives, True Negatives and False Negatives.<br><br>\n",
        "\n",
        "**Positive/Negative:** Type of Class (label) [\"Non-ADR\", \"ADR\"]\n",
        "**True/False:** Correctly or Incorrectly classified by the model.<br>\n",
        "\n",
        "**True Negatives (Top-Left Square):** This is the number of **correctly** classifications of the \"0\" class or correctly predicted Non-ADR <br>\n",
        "\n",
        "**False Negatives (Bottom-Left Square):** This is the number of **incorrectly** classifications of the \"1\" class or ADR's which were classified as Non-ADR by our model. <br>\n",
        "\n",
        "**False Positives (Top-Right Square):** This is the number of **incorrectly** classifications of the \"0\" class or Non-ADR which were classified as ADR by our model <br>\n",
        "\n",
        "**True Positives (Bottom-Right Square):** This is the number of **correctly** classifications of the \"1\" class or ADR class correctly predicted as ADR."
      ]
    },
    {
      "cell_type": "code",
      "metadata": {
        "id": "lF5m4Hg3njF3",
        "colab": {
          "base_uri": "https://localhost:8080/",
          "height": 437
        },
        "outputId": "e646b4ab-9662-4555-f52d-67f355704fa7"
      },
      "source": [
        "from sklearn.metrics import confusion_matrix\n",
        "\n",
        "conf_matrix = confusion_matrix(y_test, y_pred)\n",
        "f, ax = plt.subplots(figsize=(10, 6))\n",
        "sns.heatmap(conf_matrix, annot=True, fmt='d', linewidths=.5, ax=ax)\n",
        "plt.title(\"Confusion Matrix\", fontsize=20)\n",
        "plt.subplots_adjust(left=0.15, right=0.99, bottom=0.15, top=0.99)\n",
        "ax.set_yticks(np.arange(conf_matrix.shape[0]) + 0.5, minor=False)\n",
        "ax.set_xticklabels([\"Predicted Non-ADR\",'Predicted ADR'],fontsize=16, rotation=360)\n",
        "ax.set_yticklabels(['Actual NON-ADR', 'Actual ADR'], fontsize=16, rotation=360)\n",
        "plt.show()\n"
      ],
      "execution_count": null,
      "outputs": [
        {
          "output_type": "display_data",
          "data": {
            "image/png": "[encoded data removed]",
            "text/plain": [
              "<Figure size 720x432 with 2 Axes>"
            ]
          },
          "metadata": {
            "tags": []
          }
        }
      ]
    },
    {
      "cell_type": "markdown",
      "metadata": {
        "id": "tP7dBz77Omym"
      },
      "source": [
        "### Precision and Recall \n",
        "We will see the Precsion and Recall score in next cell, but before that let's understand what precision and recall actualy mean:<br>\n",
        "- **Precision Score:** Of all the ADR's tweets that our Model predicted, how many are actually true.<br>\n",
        "- **Recall Score:**Of all the Actual ADR tweets, how many did our model actually predicted correctly\n"
      ]
    },
    {
      "cell_type": "code",
      "metadata": {
        "id": "Wk7NYIcHnjGC",
        "colab": {
          "base_uri": "https://localhost:8080/",
          "height": 51
        },
        "outputId": "4a73d37c-2644-4216-c1ac-7d162befffff"
      },
      "source": [
        "# Let's find the scores  for precision and recall.\n",
        "from sklearn.metrics import precision_score, recall_score\n",
        "\n",
        "\n",
        "print('The model is {c} % sure that the tweets predcited as ADR are ADR'.format(c=np.round(precision_score(y_test, y_pred),2)*100))\n",
        "print('The model is predicting {c} % of all ADR tweets'.format(c=np.round(recall_score(y_test, y_pred),2)*100))\n"
      ],
      "execution_count": null,
      "outputs": [
        {
          "output_type": "stream",
          "text": [
            "The model is 84.0 % sure that the tweets predcited as ADR are ADR\n",
            "The model is predicting 81.0 % of all ADR tweets\n"
          ],
          "name": "stdout"
        }
      ]
    },
    {
      "cell_type": "markdown",
      "metadata": {
        "id": "RpG7mNfvTN00"
      },
      "source": [
        "### f-1 score\n",
        "**f-1 Score** is defined as the harmonic mean between precision and recall. It is used as a statistical measure to rate performance. In other words, an F1-score (from 0 to 9, 0 being lowest and 9 being the highest) is a mean of an individual's performance, based on two factors i.e. precision and recall"
      ]
    },
    {
      "cell_type": "code",
      "metadata": {
        "id": "DmNmE0_injGL",
        "colab": {
          "base_uri": "https://localhost:8080/",
          "height": 34
        },
        "outputId": "abd5b0be-c792-42b2-8372-43b3ea27571d"
      },
      "source": [
        "from sklearn.metrics import f1_score\n",
        "f1_score(y_test, y_pred)*100"
      ],
      "execution_count": null,
      "outputs": [
        {
          "output_type": "execute_result",
          "data": {
            "text/plain": [
              "82.92201382033564"
            ]
          },
          "metadata": {
            "tags": []
          },
          "execution_count": 134
        }
      ]
    },
    {
      "cell_type": "markdown",
      "metadata": {
        "id": "Hy_HIL-vTpKK"
      },
      "source": [
        "### Plotting the Graph of Probability vs Precision and Probability vs Recall "
      ]
    },
    {
      "cell_type": "code",
      "metadata": {
        "id": "8pvOG4GXnjGV",
        "colab": {
          "base_uri": "https://localhost:8080/",
          "height": 486
        },
        "outputId": "cd71b281-2f6f-4e7c-98f0-74e5de56e857"
      },
      "source": [
        "from sklearn.metrics import precision_recall_curve\n",
        "plt.figure(figsize=(14,8))\n",
        "y_prob=logreg_clf.predict_proba(count_test)[:,1]\n",
        "precisions, recalls, threshold = precision_recall_curve(y_test, y_prob)\n",
        "plt.plot(threshold,recalls[:-1],marker='.',label='recall')\n",
        "plt.plot(threshold,precisions[:-1],marker='.',label='precision')\n",
        "plt.legend(frameon=True,fontsize=20)\n",
        "plt.axvline(x=0.445,c='black')\n",
        "\n",
        "plt.show()"
      ],
      "execution_count": null,
      "outputs": [
        {
          "output_type": "display_data",
          "data": {
            "image/png": "[encoded data removed]",
            "text/plain": [
              "<Figure size 1008x576 with 1 Axes>"
            ]
          },
          "metadata": {
            "tags": []
          }
        }
      ]
    },
    {
      "cell_type": "markdown",
      "metadata": {
        "id": "3Ax_PTUinjGf"
      },
      "source": [
        "## The Probablity threshold for Balanced value of Precision vs Recall is `0.445`\n",
        "Note: We can pick any Probability threshold for classifying the lables as per requirement and trade-off between Precision and Recall."
      ]
    },
    {
      "cell_type": "markdown",
      "metadata": {
        "id": "Ctpqxra8njGj"
      },
      "source": [
        "## ROC Curve (Receiver Operating Characteristic):\n",
        "\n",
        "An ROC curve demonstrates several things:\n",
        "\n",
        "- It shows the tradeoff between sensitivity and specificity (any increase in sensitivity will be accompanied by a decrease in specificity).\n",
        "- The closer the curve follows the left-hand border and then the top border of the ROC space, the more accurate the test.\n",
        "- The closer the curve comes to the 45-degree diagonal of the ROC space, the less accurate the test.\n",
        "\n",
        "So **ROC curve** is basically  telling us how well our classifier is classifying between ADR (True Positives) and Non-ADR. The **X-axis** is represented by False positive rates (Specificity) and the **Y-axis** is represented by the True Positive Rate (Sensitivity.) As the line moves the threshold of the classification changes giving us different values. The closer is the line to our top left corner the better is our model separating both classes.\n"
      ]
    },
    {
      "cell_type": "code",
      "metadata": {
        "id": "AL2kTRt2njGn"
      },
      "source": [
        "from sklearn.metrics import roc_curve\n",
        "lrd_fpr, lrd_tpr, threshold = roc_curve(y_test, y_prob)"
      ],
      "execution_count": null,
      "outputs": []
    },
    {
      "cell_type": "code",
      "metadata": {
        "id": "vd_0zUUWnjGu",
        "colab": {
          "base_uri": "https://localhost:8080/",
          "height": 434
        },
        "outputId": "a3b2e33f-e442-47fd-e0c4-13ca770b90e4"
      },
      "source": [
        "def graph_roc_curve(false_positive_rate, true_positive_rate, label=None):\n",
        "    plt.figure(figsize=(10,6))\n",
        "    plt.title('ROC Curve \\n logistic Classifier', fontsize=18)\n",
        "    plt.plot(false_positive_rate, true_positive_rate, label=label)\n",
        "    plt.plot([0, 1], [0, 1], '#0C8EE0')\n",
        "    plt.axis([0, 1, 0, 1])\n",
        "    plt.xlabel('False Positive Rate', fontsize=16)\n",
        "    plt.ylabel('True Positive Rate', fontsize=16)\n",
        "    plt.annotate('ROC Score of 95.09% \\n ', xy=(0.25, 0.9), xytext=(0.4, 0.85),\n",
        "            arrowprops=dict(facecolor='#F75118', shrink=0.05),\n",
        "            )\n",
        "    plt.annotate('Minimum ROC Score of 50% \\n (This is the minimum score to get)', xy=(0.5, 0.5), xytext=(0.6, 0.3),\n",
        "                arrowprops=dict(facecolor='#F75118', shrink=0.05),\n",
        "                )\n",
        "    \n",
        "    \n",
        "graph_roc_curve(lrd_fpr, lrd_tpr, threshold)\n",
        "plt.show()"
      ],
      "execution_count": null,
      "outputs": [
        {
          "output_type": "display_data",
          "data": {
            "image/png": "[encoded data removed]",
            "text/plain": [
              "<Figure size 720x432 with 1 Axes>"
            ]
          },
          "metadata": {
            "tags": []
          }
        }
      ]
    },
    {
      "cell_type": "code",
      "metadata": {
        "id": "FAlabIO6njG4",
        "colab": {
          "base_uri": "https://localhost:8080/",
          "height": 34
        },
        "outputId": "24969288-b700-48e1-daf9-d9793a1ebd10"
      },
      "source": [
        "from sklearn.metrics import roc_auc_score\n",
        "\n",
        "print('Logistic Regression Classifier AUC-ROC Score: ', roc_auc_score(y_test, y_prob))\n"
      ],
      "execution_count": null,
      "outputs": [
        {
          "output_type": "stream",
          "text": [
            "Logistic Regression Classifier AUC-ROC Score:  0.950893314907342\n"
          ],
          "name": "stdout"
        }
      ]
    },
    {
      "cell_type": "code",
      "metadata": {
        "id": "CREHENPunjHE"
      },
      "source": [
        ""
      ],
      "execution_count": null,
      "outputs": []
    },
    {
      "cell_type": "code",
      "metadata": {
        "id": "ub2aGYeuU8qn"
      },
      "source": [
        ""
      ],
      "execution_count": null,
      "outputs": []
    },
    {
      "cell_type": "code",
      "metadata": {
        "id": "fOAok126U8n7"
      },
      "source": [
        ""
      ],
      "execution_count": null,
      "outputs": []
    },
    {
      "cell_type": "markdown",
      "metadata": {
        "id": "FACt1yCxxQYy"
      },
      "source": [
        "## Trying Ensemble based algorithms\n",
        "**Ensemble methods is a machine learning technique that combines several base models in order to produce one optimal predictive model**\n",
        "- **BAGGing**, or Bootstrap AGGregating. BAGGing gets its name because it combines Bootstrapping and Aggregation to form one ensemble model. Given a sample of data, multiple bootstrapped subsamples are pulled. A Decision Tree is formed on each of the bootstrapped subsamples. After each subsample Decision Tree has been formed, an algorithm is used to aggregate over the Decision Trees to form the most efficient predictor which is also known as Random Forest.\n",
        "- **Boosting: ** In this models are trained sequentially, where (n)th model uses the output of (n-1)th model and works on the limitation of the previous model, the process stops when result stops improving.<br>\n",
        " XGBoost is an algorithm that has recently been dominating applied machine learning. XGBoost is an optimized distributed gradient boosting library designed to be highly efficient, flexible and portable. It implements machine learning algorithms under the Gradient Boosting framework. "
      ]
    },
    {
      "cell_type": "markdown",
      "metadata": {
        "id": "XhQUqKZJ0ZAN"
      },
      "source": [
        "### Before we jump into creating models, Let's write a function which takes model as input and print Evaluated Scores:"
      ]
    },
    {
      "cell_type": "code",
      "metadata": {
        "id": "hLaLG8vV1RZN"
      },
      "source": [
        "def get_score(model):\n",
        "    model.fit(count_train,y_train)\n",
        "    y_pred=model.predict(count_test)\n",
        "    print(confusion_matrix(y_test,y_pred))\n",
        "    print(classification_report(y_test,y_pred))\n",
        "    print(\"The accuracy for Model is:\",accuracy_score(y_test,y_pred))\n",
        "    print(roc_auc_score(y_test,model.predict_proba(count_test)[:,1]))"
      ],
      "execution_count": null,
      "outputs": []
    },
    {
      "cell_type": "markdown",
      "metadata": {
        "id": "ebuwuKu40A3C"
      },
      "source": [
        "### Creating RandomForestClassifier and Hypertuning the Parameters:\n"
      ]
    },
    {
      "cell_type": "code",
      "metadata": {
        "id": "ZnG8v-kyU8h4"
      },
      "source": [
        "\n",
        "from sklearn.ensemble import RandomForestClassifier\n",
        "\n",
        "rf_model  = RandomForestClassifier(bootstrap = True,\n",
        "                                #adjusting Wieght to deal with Heavily Imbalanced Data\n",
        "                                class_weight = {0:7 , 1:3 } , criterion = 'entropy' , \n",
        "                                #depth of Model\n",
        "                                max_depth = 10,\n",
        "                                #minimum number of samples at a leaf\n",
        "                                min_samples_leaf=10 ,  \n",
        "                                #number of trees \n",
        "                                n_estimators=100 , n_jobs = -1 , random_state = 5)\n"
      ],
      "execution_count": null,
      "outputs": []
    },
    {
      "cell_type": "code",
      "metadata": {
        "id": "H9Uw5zDZ1uTX",
        "colab": {
          "base_uri": "https://localhost:8080/",
          "height": 238
        },
        "outputId": "5c6dd789-5579-45ae-96d4-f9d8adcb5c67"
      },
      "source": [
        "get_score(rf_model)"
      ],
      "execution_count": null,
      "outputs": [
        {
          "output_type": "stream",
          "text": [
            "[[4992    0]\n",
            " [2063    0]]\n",
            "              precision    recall  f1-score   support\n",
            "\n",
            "           0       0.71      1.00      0.83      4992\n",
            "           1       0.00      0.00      0.00      2063\n",
            "\n",
            "   micro avg       0.71      0.71      0.71      7055\n",
            "   macro avg       0.35      0.50      0.41      7055\n",
            "weighted avg       0.50      0.71      0.59      7055\n",
            "\n",
            "The accuracy for Model is: 0.7075832742735648\n",
            "0.8433704785630833\n"
          ],
          "name": "stdout"
        }
      ]
    },
    {
      "cell_type": "markdown",
      "metadata": {
        "id": "tHl5ZWIC0tNe"
      },
      "source": [
        "#### Implementing GridSearchCV for RandomForest"
      ]
    },
    {
      "cell_type": "code",
      "metadata": {
        "id": "Re5qVacC0mnu"
      },
      "source": [
        "params = { 'n_estimators':[30,60,100],\n",
        "          'max_features': ['auto', 'log2'] ,\n",
        "          'class_weight':[{0:3,1:7},'balanced','balanced_subsample',None],\n",
        "          'max_depth' : [8,16,32] , \n",
        "          'min_samples_leaf' : [10,15,20],\n",
        "          'criterion' : ['gini', 'entropy']\n",
        "            }\n",
        "\n",
        "sample_model = RandomForestClassifier(random_state = 42,n_jobs=-1)"
      ],
      "execution_count": null,
      "outputs": []
    },
    {
      "cell_type": "code",
      "metadata": {
        "id": "OrkMVdne2dZ9"
      },
      "source": [
        "cv_model = GridSearchCV(estimator= sample_model, param_grid=params, cv = 3 , scoring='accuracy' , n_jobs = -1)\n",
        "cv_model.fit(count_train, y_train)\n",
        "cv_model.best_params_"
      ],
      "execution_count": null,
      "outputs": []
    },
    {
      "cell_type": "code",
      "metadata": {
        "id": "kKeJAVIi2y5P"
      },
      "source": [
        "rf_clf = RandomForestClassifier(**cv_model.best_params_, n_jobs = -1 , random_state =42)"
      ],
      "execution_count": null,
      "outputs": []
    },
    {
      "cell_type": "code",
      "metadata": {
        "id": "BiCqXPiH4s4t"
      },
      "source": [
        "get_score(rf_clf)"
      ],
      "execution_count": null,
      "outputs": []
    },
    {
      "cell_type": "markdown",
      "metadata": {
        "id": "Jjnb_EOvnjHL"
      },
      "source": [
        "#### Creating and Hypertuning the XGBoost model intensively.\n",
        "- grid search for max_depth,min_child_weight.\n",
        "- parameter scale_pos_weight is quite important in case of imbalanced dataset\n",
        "\n",
        "\n"
      ]
    },
    {
      "cell_type": "code",
      "metadata": {
        "id": "fPbDkMIEnjHN"
      },
      "source": [
        "from xgboost import XGBClassifier\n"
      ],
      "execution_count": null,
      "outputs": []
    },
    {
      "cell_type": "code",
      "metadata": {
        "id": "7Qw0g-frnjHf"
      },
      "source": [
        "from sklearn.model_selection import GridSearchCV\n",
        "param_test = {\n",
        "  'min_child_weight':[5,6],\n",
        "#   'max_depth': range(3,10,2),\n",
        "#   'n_estimators':[150,200,300,400],\n",
        "#   'scale_pos_weight':[1,2,3,4],\n",
        "#   'colsample_bytree':[0.7,0.8], \n",
        "#   'subsample':[0.7,0.8],\n",
        "#   'gamma':[0,0.2,0.4]\n",
        "    \n",
        "}\n",
        "gsearch = GridSearchCV(estimator = XGBClassifier(), param_grid = param_test, scoring='f1',n_jobs=4,iid=False, cv=3)\n",
        "gsearch.fit(count_train, y_train)\n",
        "#print(gsearch.grid_scores_)\n",
        "print(\"gsearch.best_params_\",gsearch.best_params_)\n",
        "print(\"gsearch.best_score_\",gsearch.best_score_)\n"
      ],
      "execution_count": null,
      "outputs": []
    },
    {
      "cell_type": "code",
      "metadata": {
        "id": "nZ6W3tMVnjH3"
      },
      "source": [
        "modelXg = XGBClassifier(learning_rate=0.1, n_estimators=200, max_depth=4, min_child_weight=7, \n",
        "                      gamma=0.4,nthread=4, subsample=0.8, colsample_bytree=0.8, objective= 'binary:logistic',scale_pos_weight=3,seed=29)\n",
        "modelXg.fit(count_train, y_train)\n",
        "y_xg = modelXg.predict(count_test)"
      ],
      "execution_count": null,
      "outputs": []
    },
    {
      "cell_type": "code",
      "metadata": {
        "id": "ti97mTnnnjIJ"
      },
      "source": [
        "## Determine whether your model is overfitting or not , with the help of ROC.\n",
        "print(confusion_matrix(y_test, y_xg))\n",
        "predictions = [value for value in y_xg]\n",
        "accuracy = accuracy_score(y_test, predictions)\n",
        "precision = precision_score(y_test, predictions)\n",
        "recall = recall_score(y_test, predictions)\n",
        "f1 = f1_score(y_test, predictions)\n",
        "print(\"Accuracy_score: %.2f%% on test dataset\" % (accuracy * 100.0))\n",
        "print(\"precision_score: %.2f%% on test dataset\" % (precision * 100.0))\n",
        "print(\"recall_score: %.2f%% on test dataset\" % (recall * 100.0))\n",
        "print(\"f1_score: %.2f%% on test dataset\" % (f1 * 100.0))\n",
        "print(\"roc_auc test set\", roc_auc_score(y_test, modelXg.predict_proba(count_test)[:,1]))\n",
        "print(\"roc_auc training set\", roc_auc_score(y_train, modelXg.predict_proba(count_train)[:,1]))"
      ],
      "execution_count": null,
      "outputs": []
    },
    {
      "cell_type": "code",
      "metadata": {
        "id": "HPX9yTiAnjIY"
      },
      "source": [
        ""
      ],
      "execution_count": null,
      "outputs": []
    },
    {
      "cell_type": "markdown",
      "metadata": {
        "id": "79qXcThM6k5H"
      },
      "source": [
        "### Stacking algorithm\n",
        "**Stacking**: (also called meta ensembling) is a model ensembling technique used to combine information from multiple  trained predictive models to generate a new model. <br>\n",
        "Often times the stacked model (also called 2nd-level model) will outperform each of the individual models due its smoothing nature and ability to highlight each base model where it performs best and discredit each base model where it performs poorly. For this reason, stacking is most effective when the base models are significantly different.\n",
        "### Let's Proceed with stacking  create ML Classifier"
      ]
    },
    {
      "cell_type": "markdown",
      "metadata": {
        "id": "8Igy0vEn5QYG"
      },
      "source": [
        "\n",
        "### Voting Rule Parameter¶\n",
        "- **Hard** : Uses predicted class Labels and takes Majority Votes. \n",
        "- **Soft** : uses Average probability by combining probablities of individual models.\n",
        "\n",
        "We can Also assign weights to model prediction when we know that one of the models is outperforming. For example:\n",
        "<br>\n",
        "ens_model = VotingClassifier( estimators = [('lr' , clf1) ,( 'rf', clf2),( 'nb', clf3) ], voting = 'hard' , weights = [1,2,1] ]"
      ]
    },
    {
      "cell_type": "code",
      "metadata": {
        "id": "RgEbDc4a5azF"
      },
      "source": [
        "from sklearn.ensemble import VotingClassifier\n",
        "clf1 = logreg_clf\n",
        "clf2 = rf_clf\n",
        "ensemble_model = VotingClassifier(estimators = [('lr' , clf1) , ('rf' , clf2)], voting ='soft')"
      ],
      "execution_count": null,
      "outputs": []
    },
    {
      "cell_type": "code",
      "metadata": {
        "id": "4kAx6PS28Yu5"
      },
      "source": [
        "get_score(ensemble_model)"
      ],
      "execution_count": null,
      "outputs": []
    },
    {
      "cell_type": "code",
      "metadata": {
        "id": "avCHmI_5YbFH"
      },
      "source": [
        ""
      ],
      "execution_count": null,
      "outputs": []
    }
  ]
}